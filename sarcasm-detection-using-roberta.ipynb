{
  "metadata": {
    "kernelspec": {
      "language": "python",
      "display_name": "Python 3",
      "name": "python3"
    },
    "language_info": {
      "name": "python",
      "version": "3.7.10",
      "mimetype": "text/x-python",
      "codemirror_mode": {
        "name": "ipython",
        "version": 3
      },
      "pygments_lexer": "ipython3",
      "nbconvert_exporter": "python",
      "file_extension": ".py"
    },
    "colab": {
      "name": "sarcasm-detection-using-roberta.ipynb",
      "provenance": [],
      "include_colab_link": true
    },
    "accelerator": "GPU"
  },
  "nbformat_minor": 0,
  "nbformat": 4,
  "cells": [
    {
      "cell_type": "markdown",
      "metadata": {
        "id": "view-in-github",
        "colab_type": "text"
      },
      "source": [
        "<a href=\"https://colab.research.google.com/github/subhabrata-ghosh-1988/Transformers/blob/main/sarcasm-detection-using-roberta.ipynb\" target=\"_parent\"><img src=\"https://colab.research.google.com/assets/colab-badge.svg\" alt=\"Open In Colab\"/></a>"
      ]
    },
    {
      "cell_type": "markdown",
      "source": [
        "## Sarcasm Detection \n",
        "\n",
        "Sarcasm detection unlike sentiment analysis or simple text classification requires a lot of information about human interaction semantics, the model needs to know about how humans actually interact and it also needs to know the context in which certain words are used while being sarcastic and when not sarcastic.\n",
        "\n",
        "### In this notebook, we will try using the RoberTa classifier.\n",
        "\n",
        "## BERT - Bidirectional Encoder Representations from Transformers"
      ],
      "metadata": {
        "id": "Lc_5C8-tFPGb"
      }
    },
    {
      "cell_type": "markdown",
      "source": [
        "1. BERT’s key technical innovation is applying the bidirectional training of Transformer, a popular attention model, to language modelling. \n",
        "2. This is in contrast to previous efforts which looked at a text sequence either from left to right or combined left-to-right and right-to-left training. \n",
        "3. The paper’s results show that a language model which is bidirectionally trained can have a deeper sense of language context and flow than single-direction language models. \n",
        "4. In the paper, the researchers detail a novel technique named Masked LM (MLM) which allows bidirectional training in models in which was previously impossible."
      ],
      "metadata": {
        "id": "-GwkhIK1FPGe"
      }
    },
    {
      "cell_type": "code",
      "source": [
        "# This Python 3 environment comes with many helpful analytics libraries installed\n",
        "# It is defined by the kaggle/python Docker image: https://github.com/kaggle/docker-python\n",
        "# For example, here's several helpful packages to load\n",
        "\n",
        "import numpy as np # linear algebra\n",
        "import pandas as pd # data processing, CSV file I/O (e.g. pd.read_csv)\n",
        "\n",
        "# Input data files are available in the read-only \"../input/\" directory\n",
        "# For example, running this (by clicking run or pressing Shift+Enter) will list all files under the input directory\n",
        "\n",
        "import os\n",
        "for dirname, _, filenames in os.walk('/content/kaggle/input'):\n",
        "    for filename in filenames:\n",
        "        print(os.path.join(dirname, filename))\n",
        "\n",
        "# You can write up to 5GB to the current directory (/kaggle/working/) that gets preserved as output when you create a version using \"Save & Run All\" \n",
        "# You can also write temporary files to /kaggle/temp/, but they won't be saved outside of the current session"
      ],
      "metadata": {
        "_uuid": "8f2839f25d086af736a60e9eeb907d3b93b6e0e5",
        "_cell_guid": "b1076dfc-b9ad-4769-8c92-a6c4dae69d19",
        "execution": {
          "iopub.status.busy": "2021-08-19T22:01:40.341960Z",
          "iopub.execute_input": "2021-08-19T22:01:40.342358Z",
          "iopub.status.idle": "2021-08-19T22:01:40.368572Z",
          "shell.execute_reply.started": "2021-08-19T22:01:40.342269Z",
          "shell.execute_reply": "2021-08-19T22:01:40.367739Z"
        },
        "trusted": true,
        "id": "xhWNDKpdFPGf",
        "outputId": "30e32a3e-76c1-42ae-9e14-fcbda05fad57",
        "colab": {
          "base_uri": "https://localhost:8080/"
        }
      },
      "execution_count": 187,
      "outputs": [
        {
          "output_type": "stream",
          "name": "stdout",
          "text": [
            "/content/kaggle/input/Sarcasm_Headlines_Dataset_v2.json\n"
          ]
        }
      ]
    },
    {
      "cell_type": "code",
      "source": [
        "!pip install --upgrade pip"
      ],
      "metadata": {
        "execution": {
          "iopub.status.busy": "2021-08-19T22:01:40.386894Z",
          "iopub.execute_input": "2021-08-19T22:01:40.387281Z",
          "iopub.status.idle": "2021-08-19T22:02:04.752135Z",
          "shell.execute_reply.started": "2021-08-19T22:01:40.387246Z",
          "shell.execute_reply": "2021-08-19T22:02:04.751004Z"
        },
        "trusted": true,
        "id": "2I_ZCEzJFPGh",
        "outputId": "7013efc3-cc14-4ae7-885d-83d2b7b6d8da",
        "colab": {
          "base_uri": "https://localhost:8080/"
        }
      },
      "execution_count": 188,
      "outputs": [
        {
          "output_type": "stream",
          "name": "stdout",
          "text": [
            "Requirement already satisfied: pip in /usr/local/lib/python3.7/dist-packages (22.0)\n",
            "\u001b[33mWARNING: Running pip as the 'root' user can result in broken permissions and conflicting behaviour with the system package manager. It is recommended to use a virtual environment instead: https://pip.pypa.io/warnings/venv\u001b[0m\u001b[33m\n",
            "\u001b[0m"
          ]
        }
      ]
    },
    {
      "cell_type": "code",
      "source": [
        "import numpy as np\n",
        "import regex as re\n",
        "import pandas as pd\n",
        "import matplotlib.pyplot as plt\n",
        "import seaborn as sns\n",
        "import statistics\n",
        "import math\n",
        "import os\n",
        "import nltk\n",
        "import random\n",
        "import torch\n",
        "from sklearn.feature_extraction.text import CountVectorizer\n",
        "from nltk.corpus import stopwords\n",
        "from wordcloud import WordCloud,STOPWORDS\n",
        "from nltk.stem import WordNetLemmatizer\n",
        "from nltk.tokenize import word_tokenize\n",
        "from bs4 import BeautifulSoup\n",
        "import re,string,unicodedata\n",
        "from sklearn.metrics import classification_report,confusion_matrix,accuracy_score,f1_score\n",
        "\n",
        "from sklearn.model_selection import StratifiedKFold\n",
        "from sklearn.metrics import accuracy_score\n",
        "from sklearn.model_selection import train_test_split\n",
        "\n",
        "import tensorflow as tf\n",
        "import tensorflow.keras.backend as K\n",
        "!pip install transformers\n",
        "!pip install tokenizers\n",
        "import tokenizers\n",
        "from transformers import RobertaTokenizer, TFRobertaModel\n",
        "\n",
        "from collections import Counter\n",
        "\n",
        "import warnings\n",
        "warnings.filterwarnings(\"ignore\")"
      ],
      "metadata": {
        "_uuid": "d629ff2d2480ee46fbb7e2d37f6b5fab8052498a",
        "_cell_guid": "79c7e3d0-c299-4dcb-8224-4455121ee9b0",
        "execution": {
          "iopub.status.busy": "2021-08-19T22:02:04.753798Z",
          "iopub.execute_input": "2021-08-19T22:02:04.754104Z",
          "iopub.status.idle": "2021-08-19T22:02:12.543919Z",
          "shell.execute_reply.started": "2021-08-19T22:02:04.754072Z",
          "shell.execute_reply": "2021-08-19T22:02:12.542925Z"
        },
        "trusted": true,
        "id": "zI3nfxt5FPGh",
        "outputId": "6f540a7a-fabc-4256-d85f-c68f2ffb7a5c",
        "colab": {
          "base_uri": "https://localhost:8080/"
        }
      },
      "execution_count": 189,
      "outputs": [
        {
          "output_type": "stream",
          "name": "stdout",
          "text": [
            "Requirement already satisfied: transformers in /usr/local/lib/python3.7/dist-packages (4.16.1)\n",
            "Requirement already satisfied: tqdm>=4.27 in /usr/local/lib/python3.7/dist-packages (from transformers) (4.62.3)\n",
            "Requirement already satisfied: tokenizers!=0.11.3,>=0.10.1 in /usr/local/lib/python3.7/dist-packages (from transformers) (0.11.4)\n",
            "Requirement already satisfied: regex!=2019.12.17 in /usr/local/lib/python3.7/dist-packages (from transformers) (2019.12.20)\n",
            "Requirement already satisfied: huggingface-hub<1.0,>=0.1.0 in /usr/local/lib/python3.7/dist-packages (from transformers) (0.4.0)\n",
            "Requirement already satisfied: requests in /usr/local/lib/python3.7/dist-packages (from transformers) (2.23.0)\n",
            "Requirement already satisfied: sacremoses in /usr/local/lib/python3.7/dist-packages (from transformers) (0.0.47)\n",
            "Requirement already satisfied: importlib-metadata in /usr/local/lib/python3.7/dist-packages (from transformers) (4.10.1)\n",
            "Requirement already satisfied: numpy>=1.17 in /usr/local/lib/python3.7/dist-packages (from transformers) (1.19.5)\n",
            "Requirement already satisfied: filelock in /usr/local/lib/python3.7/dist-packages (from transformers) (3.4.2)\n",
            "Requirement already satisfied: packaging>=20.0 in /usr/local/lib/python3.7/dist-packages (from transformers) (21.3)\n",
            "Requirement already satisfied: pyyaml>=5.1 in /usr/local/lib/python3.7/dist-packages (from transformers) (6.0)\n",
            "Requirement already satisfied: typing-extensions>=3.7.4.3 in /usr/local/lib/python3.7/dist-packages (from huggingface-hub<1.0,>=0.1.0->transformers) (3.10.0.2)\n",
            "Requirement already satisfied: pyparsing!=3.0.5,>=2.0.2 in /usr/local/lib/python3.7/dist-packages (from packaging>=20.0->transformers) (3.0.7)\n",
            "Requirement already satisfied: zipp>=0.5 in /usr/local/lib/python3.7/dist-packages (from importlib-metadata->transformers) (3.7.0)\n",
            "Requirement already satisfied: chardet<4,>=3.0.2 in /usr/local/lib/python3.7/dist-packages (from requests->transformers) (3.0.4)\n",
            "Requirement already satisfied: idna<3,>=2.5 in /usr/local/lib/python3.7/dist-packages (from requests->transformers) (2.10)\n",
            "Requirement already satisfied: certifi>=2017.4.17 in /usr/local/lib/python3.7/dist-packages (from requests->transformers) (2021.10.8)\n",
            "Requirement already satisfied: urllib3!=1.25.0,!=1.25.1,<1.26,>=1.21.1 in /usr/local/lib/python3.7/dist-packages (from requests->transformers) (1.24.3)\n",
            "Requirement already satisfied: joblib in /usr/local/lib/python3.7/dist-packages (from sacremoses->transformers) (1.1.0)\n",
            "Requirement already satisfied: six in /usr/local/lib/python3.7/dist-packages (from sacremoses->transformers) (1.15.0)\n",
            "Requirement already satisfied: click in /usr/local/lib/python3.7/dist-packages (from sacremoses->transformers) (7.1.2)\n",
            "\u001b[33mWARNING: Running pip as the 'root' user can result in broken permissions and conflicting behaviour with the system package manager. It is recommended to use a virtual environment instead: https://pip.pypa.io/warnings/venv\u001b[0m\u001b[33m\n",
            "\u001b[0mRequirement already satisfied: tokenizers in /usr/local/lib/python3.7/dist-packages (0.11.4)\n",
            "\u001b[33mWARNING: Running pip as the 'root' user can result in broken permissions and conflicting behaviour with the system package manager. It is recommended to use a virtual environment instead: https://pip.pypa.io/warnings/venv\u001b[0m\u001b[33m\n",
            "\u001b[0m"
          ]
        }
      ]
    },
    {
      "cell_type": "code",
      "source": [
        "def set_seed(seed):\n",
        "        # For reproducibility\n",
        "        os.environ['PYTHONHASHSEED']=str(seed)\n",
        "        random.seed(seed)\n",
        "        np.random.seed(seed)\n",
        "        tf.random.set_seed(seed)\n",
        "        torch.manual_seed(seed)\n",
        "        torch.cuda.manual_seed_all(seed)"
      ],
      "metadata": {
        "id": "qjCbIrdjhGVZ"
      },
      "execution_count": 190,
      "outputs": []
    },
    {
      "cell_type": "code",
      "source": [
        "set_seed(42)"
      ],
      "metadata": {
        "id": "_J6BSQIMhUP5"
      },
      "execution_count": 191,
      "outputs": []
    },
    {
      "cell_type": "code",
      "source": [
        "# Detect hardware, return appropriate distribution strategy (you can see that it is pretty easy to set up).\n",
        "try:\n",
        "    # TPU detection. No parameters necessary if TPU_NAME environment variable is set (always set in Kaggle)\n",
        "    tpu = tf.distribute.cluster_resolver.TPUClusterResolver()\n",
        "    tf.config.experimental_connect_to_cluster(tpu)\n",
        "    tf.tpu.experimental.initialize_tpu_system(tpu)\n",
        "    strategy = tf.distribute.experimental.TPUStrategy(tpu)\n",
        "    print('Running on TPU ', tpu.master())\n",
        "except ValueError:\n",
        "    # Default distribution strategy in Tensorflow. Works on CPU and single GPU.\n",
        "    strategy = tf.distribute.get_strategy()\n",
        "\n",
        "print('Number of replicas:', strategy.num_replicas_in_sync)"
      ],
      "metadata": {
        "execution": {
          "iopub.status.busy": "2021-08-19T22:02:12.545875Z",
          "iopub.execute_input": "2021-08-19T22:02:12.546176Z",
          "iopub.status.idle": "2021-08-19T22:02:18.110221Z",
          "shell.execute_reply.started": "2021-08-19T22:02:12.546146Z",
          "shell.execute_reply": "2021-08-19T22:02:18.109177Z"
        },
        "trusted": true,
        "id": "ZM2ClPgOFPGi",
        "outputId": "d1321e82-d604-4bd1-9ae0-3855b8115aaa",
        "colab": {
          "base_uri": "https://localhost:8080/"
        }
      },
      "execution_count": 192,
      "outputs": [
        {
          "output_type": "stream",
          "name": "stdout",
          "text": [
            "Number of replicas: 1\n"
          ]
        }
      ]
    },
    {
      "cell_type": "code",
      "source": [
        "MODEL_NAME = 'roberta-base'\n",
        "# MAX_LEN= 256\n",
        "MAX_LEN= 256\n",
        "ARTIFACTS_PATH = '../artifacts/'\n",
        "\n",
        "BATCH_SIZE = 8 * strategy.num_replicas_in_sync\n",
        "EPOCHS = 3\n",
        "\n",
        "if not os.path.exists(ARTIFACTS_PATH):\n",
        "    os.makedirs(ARTIFACTS_PATH)"
      ],
      "metadata": {
        "execution": {
          "iopub.status.busy": "2021-08-19T22:02:18.111864Z",
          "iopub.execute_input": "2021-08-19T22:02:18.112161Z",
          "iopub.status.idle": "2021-08-19T22:02:18.117587Z",
          "shell.execute_reply.started": "2021-08-19T22:02:18.112121Z",
          "shell.execute_reply": "2021-08-19T22:02:18.116356Z"
        },
        "trusted": true,
        "id": "klEpy3O9FPGi"
      },
      "execution_count": 193,
      "outputs": []
    },
    {
      "cell_type": "code",
      "source": [
        "# MODEL_NAME = 'roberta-base'\n",
        "# MAX_LEN = 256\n",
        "# EPOCHS = 3\n"
      ],
      "metadata": {
        "execution": {
          "iopub.status.busy": "2021-08-19T22:02:18.118765Z",
          "iopub.execute_input": "2021-08-19T22:02:18.119116Z",
          "iopub.status.idle": "2021-08-19T22:02:18.128488Z",
          "shell.execute_reply.started": "2021-08-19T22:02:18.119088Z",
          "shell.execute_reply": "2021-08-19T22:02:18.127486Z"
        },
        "trusted": true,
        "id": "kmX_3AnCFPGj"
      },
      "execution_count": 194,
      "outputs": []
    },
    {
      "cell_type": "markdown",
      "source": [
        "## 1. Importing Data"
      ],
      "metadata": {
        "id": "0Le_B2yLFPGj"
      }
    },
    {
      "cell_type": "code",
      "source": [
        "df = pd.read_json(\"/content/kaggle/input/Sarcasm_Headlines_Dataset_v2.json\", lines=True)\n",
        "df.head()"
      ],
      "metadata": {
        "execution": {
          "iopub.status.busy": "2021-08-19T22:02:18.129802Z",
          "iopub.execute_input": "2021-08-19T22:02:18.130115Z",
          "iopub.status.idle": "2021-08-19T22:02:18.560164Z",
          "shell.execute_reply.started": "2021-08-19T22:02:18.130087Z",
          "shell.execute_reply": "2021-08-19T22:02:18.559015Z"
        },
        "trusted": true,
        "id": "wNeGtiGfFPGj",
        "outputId": "8af205d6-f5a5-412b-aa8d-0312fcc14f1e",
        "colab": {
          "base_uri": "https://localhost:8080/",
          "height": 334
        }
      },
      "execution_count": 195,
      "outputs": [
        {
          "output_type": "execute_result",
          "data": {
            "text/html": [
              "\n",
              "  <div id=\"df-7a8a5814-9063-474f-99dc-4de3ee7450cd\">\n",
              "    <div class=\"colab-df-container\">\n",
              "      <div>\n",
              "<style scoped>\n",
              "    .dataframe tbody tr th:only-of-type {\n",
              "        vertical-align: middle;\n",
              "    }\n",
              "\n",
              "    .dataframe tbody tr th {\n",
              "        vertical-align: top;\n",
              "    }\n",
              "\n",
              "    .dataframe thead th {\n",
              "        text-align: right;\n",
              "    }\n",
              "</style>\n",
              "<table border=\"1\" class=\"dataframe\">\n",
              "  <thead>\n",
              "    <tr style=\"text-align: right;\">\n",
              "      <th></th>\n",
              "      <th>is_sarcastic</th>\n",
              "      <th>headline</th>\n",
              "      <th>article_link</th>\n",
              "    </tr>\n",
              "  </thead>\n",
              "  <tbody>\n",
              "    <tr>\n",
              "      <th>0</th>\n",
              "      <td>1</td>\n",
              "      <td>thirtysomething scientists unveil doomsday clo...</td>\n",
              "      <td>https://www.theonion.com/thirtysomething-scien...</td>\n",
              "    </tr>\n",
              "    <tr>\n",
              "      <th>1</th>\n",
              "      <td>0</td>\n",
              "      <td>dem rep. totally nails why congress is falling...</td>\n",
              "      <td>https://www.huffingtonpost.com/entry/donna-edw...</td>\n",
              "    </tr>\n",
              "    <tr>\n",
              "      <th>2</th>\n",
              "      <td>0</td>\n",
              "      <td>eat your veggies: 9 deliciously different recipes</td>\n",
              "      <td>https://www.huffingtonpost.com/entry/eat-your-...</td>\n",
              "    </tr>\n",
              "    <tr>\n",
              "      <th>3</th>\n",
              "      <td>1</td>\n",
              "      <td>inclement weather prevents liar from getting t...</td>\n",
              "      <td>https://local.theonion.com/inclement-weather-p...</td>\n",
              "    </tr>\n",
              "    <tr>\n",
              "      <th>4</th>\n",
              "      <td>1</td>\n",
              "      <td>mother comes pretty close to using word 'strea...</td>\n",
              "      <td>https://www.theonion.com/mother-comes-pretty-c...</td>\n",
              "    </tr>\n",
              "  </tbody>\n",
              "</table>\n",
              "</div>\n",
              "      <button class=\"colab-df-convert\" onclick=\"convertToInteractive('df-7a8a5814-9063-474f-99dc-4de3ee7450cd')\"\n",
              "              title=\"Convert this dataframe to an interactive table.\"\n",
              "              style=\"display:none;\">\n",
              "        \n",
              "  <svg xmlns=\"http://www.w3.org/2000/svg\" height=\"24px\"viewBox=\"0 0 24 24\"\n",
              "       width=\"24px\">\n",
              "    <path d=\"M0 0h24v24H0V0z\" fill=\"none\"/>\n",
              "    <path d=\"M18.56 5.44l.94 2.06.94-2.06 2.06-.94-2.06-.94-.94-2.06-.94 2.06-2.06.94zm-11 1L8.5 8.5l.94-2.06 2.06-.94-2.06-.94L8.5 2.5l-.94 2.06-2.06.94zm10 10l.94 2.06.94-2.06 2.06-.94-2.06-.94-.94-2.06-.94 2.06-2.06.94z\"/><path d=\"M17.41 7.96l-1.37-1.37c-.4-.4-.92-.59-1.43-.59-.52 0-1.04.2-1.43.59L10.3 9.45l-7.72 7.72c-.78.78-.78 2.05 0 2.83L4 21.41c.39.39.9.59 1.41.59.51 0 1.02-.2 1.41-.59l7.78-7.78 2.81-2.81c.8-.78.8-2.07 0-2.86zM5.41 20L4 18.59l7.72-7.72 1.47 1.35L5.41 20z\"/>\n",
              "  </svg>\n",
              "      </button>\n",
              "      \n",
              "  <style>\n",
              "    .colab-df-container {\n",
              "      display:flex;\n",
              "      flex-wrap:wrap;\n",
              "      gap: 12px;\n",
              "    }\n",
              "\n",
              "    .colab-df-convert {\n",
              "      background-color: #E8F0FE;\n",
              "      border: none;\n",
              "      border-radius: 50%;\n",
              "      cursor: pointer;\n",
              "      display: none;\n",
              "      fill: #1967D2;\n",
              "      height: 32px;\n",
              "      padding: 0 0 0 0;\n",
              "      width: 32px;\n",
              "    }\n",
              "\n",
              "    .colab-df-convert:hover {\n",
              "      background-color: #E2EBFA;\n",
              "      box-shadow: 0px 1px 2px rgba(60, 64, 67, 0.3), 0px 1px 3px 1px rgba(60, 64, 67, 0.15);\n",
              "      fill: #174EA6;\n",
              "    }\n",
              "\n",
              "    [theme=dark] .colab-df-convert {\n",
              "      background-color: #3B4455;\n",
              "      fill: #D2E3FC;\n",
              "    }\n",
              "\n",
              "    [theme=dark] .colab-df-convert:hover {\n",
              "      background-color: #434B5C;\n",
              "      box-shadow: 0px 1px 3px 1px rgba(0, 0, 0, 0.15);\n",
              "      filter: drop-shadow(0px 1px 2px rgba(0, 0, 0, 0.3));\n",
              "      fill: #FFFFFF;\n",
              "    }\n",
              "  </style>\n",
              "\n",
              "      <script>\n",
              "        const buttonEl =\n",
              "          document.querySelector('#df-7a8a5814-9063-474f-99dc-4de3ee7450cd button.colab-df-convert');\n",
              "        buttonEl.style.display =\n",
              "          google.colab.kernel.accessAllowed ? 'block' : 'none';\n",
              "\n",
              "        async function convertToInteractive(key) {\n",
              "          const element = document.querySelector('#df-7a8a5814-9063-474f-99dc-4de3ee7450cd');\n",
              "          const dataTable =\n",
              "            await google.colab.kernel.invokeFunction('convertToInteractive',\n",
              "                                                     [key], {});\n",
              "          if (!dataTable) return;\n",
              "\n",
              "          const docLinkHtml = 'Like what you see? Visit the ' +\n",
              "            '<a target=\"_blank\" href=https://colab.research.google.com/notebooks/data_table.ipynb>data table notebook</a>'\n",
              "            + ' to learn more about interactive tables.';\n",
              "          element.innerHTML = '';\n",
              "          dataTable['output_type'] = 'display_data';\n",
              "          await google.colab.output.renderOutput(dataTable, element);\n",
              "          const docLink = document.createElement('div');\n",
              "          docLink.innerHTML = docLinkHtml;\n",
              "          element.appendChild(docLink);\n",
              "        }\n",
              "      </script>\n",
              "    </div>\n",
              "  </div>\n",
              "  "
            ],
            "text/plain": [
              "   is_sarcastic  ...                                       article_link\n",
              "0             1  ...  https://www.theonion.com/thirtysomething-scien...\n",
              "1             0  ...  https://www.huffingtonpost.com/entry/donna-edw...\n",
              "2             0  ...  https://www.huffingtonpost.com/entry/eat-your-...\n",
              "3             1  ...  https://local.theonion.com/inclement-weather-p...\n",
              "4             1  ...  https://www.theonion.com/mother-comes-pretty-c...\n",
              "\n",
              "[5 rows x 3 columns]"
            ]
          },
          "metadata": {},
          "execution_count": 195
        }
      ]
    },
    {
      "cell_type": "code",
      "source": [
        "X_data = df[['headline']].to_numpy().reshape(-1)\n",
        "y_data = df[['is_sarcastic']].to_numpy().reshape(-1)"
      ],
      "metadata": {
        "execution": {
          "iopub.status.busy": "2021-08-19T22:02:18.561561Z",
          "iopub.execute_input": "2021-08-19T22:02:18.561849Z",
          "iopub.status.idle": "2021-08-19T22:02:18.570547Z",
          "shell.execute_reply.started": "2021-08-19T22:02:18.561821Z",
          "shell.execute_reply": "2021-08-19T22:02:18.569589Z"
        },
        "trusted": true,
        "id": "Bga8iSUuFPGk"
      },
      "execution_count": 196,
      "outputs": []
    },
    {
      "cell_type": "code",
      "source": [
        "df.drop('article_link', axis=1, inplace=True)"
      ],
      "metadata": {
        "execution": {
          "iopub.status.busy": "2021-08-19T22:02:18.571932Z",
          "iopub.execute_input": "2021-08-19T22:02:18.572303Z",
          "iopub.status.idle": "2021-08-19T22:02:18.580941Z",
          "shell.execute_reply.started": "2021-08-19T22:02:18.572272Z",
          "shell.execute_reply": "2021-08-19T22:02:18.579998Z"
        },
        "trusted": true,
        "id": "E6zbX27JFPGk"
      },
      "execution_count": 197,
      "outputs": []
    },
    {
      "cell_type": "markdown",
      "source": [
        "## 2. Basic Data Cleaning"
      ],
      "metadata": {
        "id": "46-0NQQcFPGk"
      }
    },
    {
      "cell_type": "code",
      "source": [
        "nltk.download('stopwords')\n",
        "stop = set(stopwords.words('english'))\n",
        "punctuation = list(string.punctuation)\n",
        "stop.update(punctuation)"
      ],
      "metadata": {
        "execution": {
          "iopub.status.busy": "2021-08-19T22:02:18.584610Z",
          "iopub.execute_input": "2021-08-19T22:02:18.585047Z",
          "iopub.status.idle": "2021-08-19T22:02:18.595754Z",
          "shell.execute_reply.started": "2021-08-19T22:02:18.585005Z",
          "shell.execute_reply": "2021-08-19T22:02:18.594627Z"
        },
        "trusted": true,
        "id": "6G_E2i0LFPGl",
        "outputId": "5b9adec7-e5a5-4797-908b-cb50718e992c",
        "colab": {
          "base_uri": "https://localhost:8080/"
        }
      },
      "execution_count": 198,
      "outputs": [
        {
          "output_type": "stream",
          "name": "stdout",
          "text": [
            "[nltk_data] Downloading package stopwords to /root/nltk_data...\n",
            "[nltk_data]   Package stopwords is already up-to-date!\n"
          ]
        }
      ]
    },
    {
      "cell_type": "code",
      "source": [
        "def strip_html(text):\n",
        "    soup = BeautifulSoup(text, \"html.parser\")\n",
        "    return soup.get_text()\n",
        "\n",
        "#Removing the square brackets\n",
        "def remove_between_square_brackets(text):\n",
        "    return re.sub('\\[[^]]*\\]', '', text)\n",
        "# Removing URL's\n",
        "def remove_between_square_brackets(text):\n",
        "    return re.sub(r'http\\S+', '', text)\n",
        "#Removing the stopwords from text\n",
        "def remove_stopwords(text):\n",
        "    final_text = []\n",
        "    for i in text.split():\n",
        "        if i.strip().lower() not in stop and i.strip().lower().isalpha():\n",
        "            final_text.append(i.strip().lower())\n",
        "    return \" \".join(final_text)\n",
        "#Removing the noisy text\n",
        "def denoise_text(text):\n",
        "    text = strip_html(text)\n",
        "    text = remove_between_square_brackets(text)\n",
        "    text = remove_stopwords(text)\n",
        "    return text\n",
        "#Apply function on review column\n",
        "df['headline']=df['headline'].apply(denoise_text)"
      ],
      "metadata": {
        "execution": {
          "iopub.status.busy": "2021-08-19T22:02:18.597840Z",
          "iopub.execute_input": "2021-08-19T22:02:18.598219Z",
          "iopub.status.idle": "2021-08-19T22:02:20.615406Z",
          "shell.execute_reply.started": "2021-08-19T22:02:18.598188Z",
          "shell.execute_reply": "2021-08-19T22:02:20.614407Z"
        },
        "trusted": true,
        "id": "AGUqaTwCFPGl"
      },
      "execution_count": 199,
      "outputs": []
    },
    {
      "cell_type": "markdown",
      "source": [
        "## 3. Creating the vocabulary"
      ],
      "metadata": {
        "id": "FJhTm0zbFPGl"
      }
    },
    {
      "cell_type": "code",
      "source": [
        "def get_corpus(text):\n",
        "    words = []\n",
        "    for i in text:\n",
        "        for j in i.split():\n",
        "            words.append(j.strip())\n",
        "    return words\n",
        "corpus = get_corpus(df.headline)\n",
        "corpus[:5]"
      ],
      "metadata": {
        "execution": {
          "iopub.status.busy": "2021-08-19T22:02:20.616544Z",
          "iopub.execute_input": "2021-08-19T22:02:20.616821Z",
          "iopub.status.idle": "2021-08-19T22:02:20.680359Z",
          "shell.execute_reply.started": "2021-08-19T22:02:20.616794Z",
          "shell.execute_reply": "2021-08-19T22:02:20.679550Z"
        },
        "trusted": true,
        "id": "RR3K6vr3FPGl",
        "outputId": "1d96a7b2-2a1b-4961-b4b7-7f2cc34eb208",
        "colab": {
          "base_uri": "https://localhost:8080/"
        }
      },
      "execution_count": 200,
      "outputs": [
        {
          "output_type": "execute_result",
          "data": {
            "text/plain": [
              "['thirtysomething', 'scientists', 'unveil', 'doomsday', 'clock']"
            ]
          },
          "metadata": {},
          "execution_count": 200
        }
      ]
    },
    {
      "cell_type": "code",
      "source": [
        "from collections import Counter\n",
        "counter = Counter(corpus)\n",
        "most_common = counter.most_common(10)\n",
        "most_common = dict(most_common)\n",
        "most_common"
      ],
      "metadata": {
        "execution": {
          "iopub.status.busy": "2021-08-19T22:02:20.681617Z",
          "iopub.execute_input": "2021-08-19T22:02:20.681927Z",
          "iopub.status.idle": "2021-08-19T22:02:20.723659Z",
          "shell.execute_reply.started": "2021-08-19T22:02:20.681898Z",
          "shell.execute_reply": "2021-08-19T22:02:20.722668Z"
        },
        "trusted": true,
        "id": "kMzzV4d0FPGm",
        "outputId": "0c06496a-3764-490e-b23b-f0a6f9e27a0f",
        "colab": {
          "base_uri": "https://localhost:8080/"
        }
      },
      "execution_count": 201,
      "outputs": [
        {
          "output_type": "execute_result",
          "data": {
            "text/plain": [
              "{'area': 494,\n",
              " 'day': 435,\n",
              " 'donald': 472,\n",
              " 'like': 428,\n",
              " 'man': 1351,\n",
              " 'new': 1637,\n",
              " 'one': 527,\n",
              " 'says': 482,\n",
              " 'trump': 1284,\n",
              " 'woman': 483}"
            ]
          },
          "metadata": {},
          "execution_count": 201
        }
      ]
    },
    {
      "cell_type": "markdown",
      "source": [
        "## 4. Model Building"
      ],
      "metadata": {
        "id": "xRRu6lIFFPGm"
      }
    },
    {
      "cell_type": "code",
      "source": [
        "X = df['headline']\n",
        "y = df['is_sarcastic']"
      ],
      "metadata": {
        "execution": {
          "iopub.status.busy": "2021-08-19T22:02:20.725052Z",
          "iopub.execute_input": "2021-08-19T22:02:20.725355Z",
          "iopub.status.idle": "2021-08-19T22:02:20.735062Z",
          "shell.execute_reply.started": "2021-08-19T22:02:20.725326Z",
          "shell.execute_reply": "2021-08-19T22:02:20.734321Z"
        },
        "trusted": true,
        "id": "9P-QXVBOFPGm"
      },
      "execution_count": 202,
      "outputs": []
    },
    {
      "cell_type": "code",
      "source": [
        "# Split into train and test datasets\n",
        "X_train, X_test, y_train, y_test = train_test_split(X_data, y_data, test_size=0.3, random_state=777) # random_state to reproduce results"
      ],
      "metadata": {
        "execution": {
          "iopub.status.busy": "2021-08-19T22:02:20.736088Z",
          "iopub.execute_input": "2021-08-19T22:02:20.736392Z",
          "iopub.status.idle": "2021-08-19T22:02:20.751026Z",
          "shell.execute_reply.started": "2021-08-19T22:02:20.736367Z",
          "shell.execute_reply": "2021-08-19T22:02:20.750016Z"
        },
        "trusted": true,
        "id": "Ph_OW0mUFPGm"
      },
      "execution_count": 203,
      "outputs": []
    },
    {
      "cell_type": "code",
      "source": [
        "!pip install transformers\n",
        "## If transformers library is not installed"
      ],
      "metadata": {
        "execution": {
          "iopub.status.busy": "2021-08-19T22:02:20.752574Z",
          "iopub.execute_input": "2021-08-19T22:02:20.752997Z",
          "iopub.status.idle": "2021-08-19T22:02:27.852928Z",
          "shell.execute_reply.started": "2021-08-19T22:02:20.752955Z",
          "shell.execute_reply": "2021-08-19T22:02:27.851912Z"
        },
        "trusted": true,
        "id": "IU4yiDgaFPGm",
        "outputId": "70178591-1da1-49bf-ac75-a56dd6311873",
        "colab": {
          "base_uri": "https://localhost:8080/"
        }
      },
      "execution_count": 204,
      "outputs": [
        {
          "output_type": "stream",
          "name": "stdout",
          "text": [
            "Requirement already satisfied: transformers in /usr/local/lib/python3.7/dist-packages (4.16.1)\n",
            "Requirement already satisfied: tqdm>=4.27 in /usr/local/lib/python3.7/dist-packages (from transformers) (4.62.3)\n",
            "Requirement already satisfied: tokenizers!=0.11.3,>=0.10.1 in /usr/local/lib/python3.7/dist-packages (from transformers) (0.11.4)\n",
            "Requirement already satisfied: regex!=2019.12.17 in /usr/local/lib/python3.7/dist-packages (from transformers) (2019.12.20)\n",
            "Requirement already satisfied: huggingface-hub<1.0,>=0.1.0 in /usr/local/lib/python3.7/dist-packages (from transformers) (0.4.0)\n",
            "Requirement already satisfied: requests in /usr/local/lib/python3.7/dist-packages (from transformers) (2.23.0)\n",
            "Requirement already satisfied: sacremoses in /usr/local/lib/python3.7/dist-packages (from transformers) (0.0.47)\n",
            "Requirement already satisfied: importlib-metadata in /usr/local/lib/python3.7/dist-packages (from transformers) (4.10.1)\n",
            "Requirement already satisfied: numpy>=1.17 in /usr/local/lib/python3.7/dist-packages (from transformers) (1.19.5)\n",
            "Requirement already satisfied: filelock in /usr/local/lib/python3.7/dist-packages (from transformers) (3.4.2)\n",
            "Requirement already satisfied: packaging>=20.0 in /usr/local/lib/python3.7/dist-packages (from transformers) (21.3)\n",
            "Requirement already satisfied: pyyaml>=5.1 in /usr/local/lib/python3.7/dist-packages (from transformers) (6.0)\n",
            "Requirement already satisfied: typing-extensions>=3.7.4.3 in /usr/local/lib/python3.7/dist-packages (from huggingface-hub<1.0,>=0.1.0->transformers) (3.10.0.2)\n",
            "Requirement already satisfied: pyparsing!=3.0.5,>=2.0.2 in /usr/local/lib/python3.7/dist-packages (from packaging>=20.0->transformers) (3.0.7)\n",
            "Requirement already satisfied: zipp>=0.5 in /usr/local/lib/python3.7/dist-packages (from importlib-metadata->transformers) (3.7.0)\n",
            "Requirement already satisfied: chardet<4,>=3.0.2 in /usr/local/lib/python3.7/dist-packages (from requests->transformers) (3.0.4)\n",
            "Requirement already satisfied: idna<3,>=2.5 in /usr/local/lib/python3.7/dist-packages (from requests->transformers) (2.10)\n",
            "Requirement already satisfied: certifi>=2017.4.17 in /usr/local/lib/python3.7/dist-packages (from requests->transformers) (2021.10.8)\n",
            "Requirement already satisfied: urllib3!=1.25.0,!=1.25.1,<1.26,>=1.21.1 in /usr/local/lib/python3.7/dist-packages (from requests->transformers) (1.24.3)\n",
            "Requirement already satisfied: joblib in /usr/local/lib/python3.7/dist-packages (from sacremoses->transformers) (1.1.0)\n",
            "Requirement already satisfied: six in /usr/local/lib/python3.7/dist-packages (from sacremoses->transformers) (1.15.0)\n",
            "Requirement already satisfied: click in /usr/local/lib/python3.7/dist-packages (from sacremoses->transformers) (7.1.2)\n",
            "\u001b[33mWARNING: Running pip as the 'root' user can result in broken permissions and conflicting behaviour with the system package manager. It is recommended to use a virtual environment instead: https://pip.pypa.io/warnings/venv\u001b[0m\u001b[33m\n",
            "\u001b[0m"
          ]
        }
      ]
    },
    {
      "cell_type": "markdown",
      "source": [
        "#### Yinhan Liu et al. introduced the RoBERTa model in RoBERTa: A Robustly Optimized BERT Pretraining Approach. It is built on Google's BERT model, which was released in 2018 but with important hyperparameters changed, such as deleting the next-sentence pretraining target and training with substantially bigger mini-batches and learning rates."
      ],
      "metadata": {
        "id": "mKKGH4R1FPGn"
      }
    },
    {
      "cell_type": "code",
      "source": [
        "\n",
        "# First load the real tokenizer\n",
        "#tokenizer = transformers.DistilBertTokenizer.from_pretrained('distilbert-base-uncased' , lower = True)\n",
        "tokenizer = RobertaTokenizer.from_pretrained(MODEL_NAME)\n",
        "# Save the loaded tokenizer locally\n",
        "# tokenizer.save_pretrained('.')"
      ],
      "metadata": {
        "execution": {
          "iopub.status.busy": "2021-08-19T22:02:27.854325Z",
          "iopub.execute_input": "2021-08-19T22:02:27.854635Z",
          "iopub.status.idle": "2021-08-19T22:02:30.138449Z",
          "shell.execute_reply.started": "2021-08-19T22:02:27.854604Z",
          "shell.execute_reply": "2021-08-19T22:02:30.137483Z"
        },
        "trusted": true,
        "id": "DgdmLel7FPGn"
      },
      "execution_count": 205,
      "outputs": []
    },
    {
      "cell_type": "code",
      "source": [
        "n_texts = len(X_data)\n",
        "print('Texts in dataset: %d' % n_texts)\n",
        "\n",
        "headlines = df['headline'].unique()\n",
        "n_headlines = len(headlines)\n",
        "print('Number of headlines: %d' % n_headlines)\n",
        "\n",
        "print('Done!')"
      ],
      "metadata": {
        "execution": {
          "iopub.status.busy": "2021-08-19T22:02:30.139653Z",
          "iopub.execute_input": "2021-08-19T22:02:30.139930Z",
          "iopub.status.idle": "2021-08-19T22:02:30.160585Z",
          "shell.execute_reply.started": "2021-08-19T22:02:30.139904Z",
          "shell.execute_reply": "2021-08-19T22:02:30.159558Z"
        },
        "trusted": true,
        "id": "gFpryDpJFPGn",
        "outputId": "0b1916c3-f1a4-452b-b1fa-c49eb9b28e42",
        "colab": {
          "base_uri": "https://localhost:8080/"
        }
      },
      "execution_count": 206,
      "outputs": [
        {
          "output_type": "stream",
          "name": "stdout",
          "text": [
            "Texts in dataset: 28619\n",
            "Number of headlines: 28402\n",
            "Done!\n"
          ]
        }
      ]
    },
    {
      "cell_type": "code",
      "source": [
        "def roberta_encode(texts, tokenizer):\n",
        "    ct = len(texts)\n",
        "    input_ids = np.ones((ct, MAX_LEN), dtype='int32')\n",
        "    attention_mask = np.zeros((ct, MAX_LEN), dtype='int32')\n",
        "    token_type_ids = np.zeros((ct, MAX_LEN), dtype='int32') # Not used in text classification\n",
        "\n",
        "    for k, text in enumerate(texts):\n",
        "        # Tokenize\n",
        "        tok_text = tokenizer.tokenize(text)\n",
        "        \n",
        "        # Truncate and convert tokens to numerical IDs\n",
        "        enc_text = tokenizer.convert_tokens_to_ids(tok_text[:(MAX_LEN-2)])\n",
        "        \n",
        "        input_length = len(enc_text) + 2\n",
        "        input_length = input_length if input_length < MAX_LEN else MAX_LEN\n",
        "        \n",
        "        # Add tokens [CLS] and [SEP] at the beginning and the end\n",
        "        input_ids[k,:input_length] = np.asarray([0] + enc_text + [2], dtype='int32')\n",
        "        \n",
        "        # Set to 1s in the attention input\n",
        "        attention_mask[k,:input_length] = 1\n",
        "\n",
        "    return {\n",
        "        'input_word_ids': input_ids,\n",
        "        'input_mask': attention_mask,\n",
        "        'input_type_ids': token_type_ids\n",
        "    }"
      ],
      "metadata": {
        "execution": {
          "iopub.status.busy": "2021-08-19T22:02:30.161558Z",
          "iopub.execute_input": "2021-08-19T22:02:30.161835Z",
          "iopub.status.idle": "2021-08-19T22:02:30.173046Z",
          "shell.execute_reply.started": "2021-08-19T22:02:30.161801Z",
          "shell.execute_reply": "2021-08-19T22:02:30.171993Z"
        },
        "trusted": true,
        "id": "K9GkNA1cFPGo"
      },
      "execution_count": 207,
      "outputs": []
    },
    {
      "cell_type": "code",
      "source": [
        "# x_train = fast_encode(X_train.values, fast_tokenizer, maxlen=400)\n",
        "# x_test = fast_encode(X_test.values, fast_tokenizer, maxlen=400)"
      ],
      "metadata": {
        "execution": {
          "iopub.status.busy": "2021-08-19T22:02:30.174472Z",
          "iopub.execute_input": "2021-08-19T22:02:30.174822Z",
          "iopub.status.idle": "2021-08-19T22:02:30.186829Z",
          "shell.execute_reply.started": "2021-08-19T22:02:30.174792Z",
          "shell.execute_reply": "2021-08-19T22:02:30.185889Z"
        },
        "trusted": true,
        "id": "R9q0Ok54FPGo"
      },
      "execution_count": 208,
      "outputs": []
    },
    {
      "cell_type": "code",
      "source": [
        "X_train = roberta_encode(X_train, tokenizer)\n",
        "X_test = roberta_encode(X_test, tokenizer)\n",
        "\n",
        "y_train = np.asarray(y_train, dtype='int32')\n",
        "y_test = np.asarray(y_test, dtype='int32')"
      ],
      "metadata": {
        "execution": {
          "iopub.status.busy": "2021-08-19T22:02:30.187999Z",
          "iopub.execute_input": "2021-08-19T22:02:30.188398Z",
          "iopub.status.idle": "2021-08-19T22:02:36.515861Z",
          "shell.execute_reply.started": "2021-08-19T22:02:30.188358Z",
          "shell.execute_reply": "2021-08-19T22:02:36.514694Z"
        },
        "trusted": true,
        "id": "jEbE-52FFPGo"
      },
      "execution_count": 209,
      "outputs": []
    },
    {
      "cell_type": "markdown",
      "source": [
        "We shall be using the pre-trained BERT model which has been extensively trained on huge text corpuses of Wikipedia.\n",
        "Now after getting the pre-trained model, we can fine-tune the model for our own specific task.\n",
        "\n",
        "The key thing to notice is here is that for our final prediction we would only be using the output generated by the first token ([CLS]), after which we use a sigmoid activation for final prediction."
      ],
      "metadata": {
        "id": "D23IHgzgFPGo"
      }
    },
    {
      "cell_type": "code",
      "source": [
        "# def build_model(transformer, max_len=400):\n",
        "    \n",
        "#     input_word_ids = Input(shape=(max_len,), dtype=tf.int32, name=\"input_word_ids\")\n",
        "#     sequence_output = transformer(input_word_ids)[0]\n",
        "#     cls_token = sequence_output[:, 0, :]\n",
        "#     out = Dense(1, activation='sigmoid')(cls_token)\n",
        "    \n",
        "#     model = Model(inputs=input_word_ids, outputs=out)\n",
        "#     model.compile(Adam(lr=2e-5), loss='binary_crossentropy', metrics=['accuracy'])\n",
        "    \n",
        "#     return model"
      ],
      "metadata": {
        "execution": {
          "iopub.status.busy": "2021-08-19T22:02:36.517113Z",
          "iopub.execute_input": "2021-08-19T22:02:36.517390Z",
          "iopub.status.idle": "2021-08-19T22:02:36.521275Z",
          "shell.execute_reply.started": "2021-08-19T22:02:36.517363Z",
          "shell.execute_reply": "2021-08-19T22:02:36.520311Z"
        },
        "trusted": true,
        "id": "c7sBcqSrFPGp"
      },
      "execution_count": 210,
      "outputs": []
    },
    {
      "cell_type": "markdown",
      "source": [
        "# Create RoBERTa model"
      ],
      "metadata": {
        "id": "xPbn9d7cFPGp"
      }
    },
    {
      "cell_type": "code",
      "source": [
        "def build_model(n_headlines):\n",
        "    with strategy.scope():\n",
        "        input_word_ids = tf.keras.Input(shape=(MAX_LEN,), dtype=tf.int32, name='input_word_ids')\n",
        "        input_mask = tf.keras.Input(shape=(MAX_LEN,), dtype=tf.int32, name='input_mask')\n",
        "        input_type_ids = tf.keras.Input(shape=(MAX_LEN,), dtype=tf.int32, name='input_type_ids')\n",
        "\n",
        "        # Import RoBERTa model from HuggingFace\n",
        "        roberta_model = TFRobertaModel.from_pretrained(MODEL_NAME)\n",
        "        x = roberta_model(input_word_ids, attention_mask=input_mask, token_type_ids=input_type_ids)\n",
        "\n",
        "        # Huggingface transformers have multiple outputs, embeddings are the first one,\n",
        "        # so let's slice out the first position\n",
        "        x = x[0]\n",
        "        \n",
        "        x = tf.keras.layers.Dropout(0.1)(x)\n",
        "        x = tf.keras.layers.Flatten()(x)\n",
        "        x = tf.keras.layers.Dense(256, activation='relu')(x)\n",
        "        x = tf.keras.layers.Dense(1, activation='sigmoid')(x)\n",
        "\n",
        "        model = tf.keras.Model(inputs=[input_word_ids, input_mask, input_type_ids], outputs=x)\n",
        "        model.compile(\n",
        "            optimizer=tf.keras.optimizers.Adam(lr=1e-5),\n",
        "            loss='binary_crossentropy',\n",
        "            metrics=['accuracy'])\n",
        "\n",
        "        return model"
      ],
      "metadata": {
        "execution": {
          "iopub.status.busy": "2021-08-19T22:02:36.522499Z",
          "iopub.execute_input": "2021-08-19T22:02:36.522778Z",
          "iopub.status.idle": "2021-08-19T22:02:36.535114Z",
          "shell.execute_reply.started": "2021-08-19T22:02:36.522751Z",
          "shell.execute_reply": "2021-08-19T22:02:36.534153Z"
        },
        "trusted": true,
        "id": "rfOxUA2FFPGp"
      },
      "execution_count": 211,
      "outputs": []
    },
    {
      "cell_type": "code",
      "source": [
        "with strategy.scope():\n",
        "    model = build_model(n_headlines)\n",
        "    model.summary()"
      ],
      "metadata": {
        "execution": {
          "iopub.status.busy": "2021-08-19T22:02:36.536726Z",
          "iopub.execute_input": "2021-08-19T22:02:36.537054Z",
          "iopub.status.idle": "2021-08-19T22:03:24.173168Z",
          "shell.execute_reply.started": "2021-08-19T22:02:36.537022Z",
          "shell.execute_reply": "2021-08-19T22:03:24.171991Z"
        },
        "trusted": true,
        "id": "MN__wAoiFPGp",
        "outputId": "2b71dc9b-fe37-4d76-c162-a3d31e1b6dd1",
        "colab": {
          "base_uri": "https://localhost:8080/"
        }
      },
      "execution_count": 212,
      "outputs": [
        {
          "output_type": "stream",
          "name": "stderr",
          "text": [
            "Some layers from the model checkpoint at roberta-base were not used when initializing TFRobertaModel: ['lm_head']\n",
            "- This IS expected if you are initializing TFRobertaModel from the checkpoint of a model trained on another task or with another architecture (e.g. initializing a BertForSequenceClassification model from a BertForPreTraining model).\n",
            "- This IS NOT expected if you are initializing TFRobertaModel from the checkpoint of a model that you expect to be exactly identical (initializing a BertForSequenceClassification model from a BertForSequenceClassification model).\n",
            "All the layers of TFRobertaModel were initialized from the model checkpoint at roberta-base.\n",
            "If your task is similar to the task the model of the checkpoint was trained on, you can already use TFRobertaModel for predictions without further training.\n"
          ]
        },
        {
          "output_type": "stream",
          "name": "stdout",
          "text": [
            "Model: \"model_5\"\n",
            "__________________________________________________________________________________________________\n",
            " Layer (type)                   Output Shape         Param #     Connected to                     \n",
            "==================================================================================================\n",
            " input_word_ids (InputLayer)    [(None, 256)]        0           []                               \n",
            "                                                                                                  \n",
            " input_mask (InputLayer)        [(None, 256)]        0           []                               \n",
            "                                                                                                  \n",
            " input_type_ids (InputLayer)    [(None, 256)]        0           []                               \n",
            "                                                                                                  \n",
            " tf_roberta_model_6 (TFRobertaM  TFBaseModelOutputWi  124645632  ['input_word_ids[0][0]',         \n",
            " odel)                          thPoolingAndCrossAt               'input_mask[0][0]',             \n",
            "                                tentions(last_hidde               'input_type_ids[0][0]']         \n",
            "                                n_state=(None, 256,                                               \n",
            "                                 768),                                                            \n",
            "                                 pooler_output=(Non                                               \n",
            "                                e, 768),                                                          \n",
            "                                 past_key_values=No                                               \n",
            "                                ne, hidden_states=N                                               \n",
            "                                one, attentions=Non                                               \n",
            "                                e, cross_attentions                                               \n",
            "                                =None)                                                            \n",
            "                                                                                                  \n",
            " dropout_265 (Dropout)          (None, 256, 768)     0           ['tf_roberta_model_6[0][0]']     \n",
            "                                                                                                  \n",
            " flatten_6 (Flatten)            (None, 196608)       0           ['dropout_265[0][0]']            \n",
            "                                                                                                  \n",
            " dense_7 (Dense)                (None, 256)          50331904    ['flatten_6[0][0]']              \n",
            "                                                                                                  \n",
            " dense_8 (Dense)                (None, 1)            257         ['dense_7[0][0]']                \n",
            "                                                                                                  \n",
            "==================================================================================================\n",
            "Total params: 174,977,793\n",
            "Trainable params: 174,977,793\n",
            "Non-trainable params: 0\n",
            "__________________________________________________________________________________________________\n"
          ]
        }
      ]
    },
    {
      "cell_type": "markdown",
      "source": [
        "# Train model"
      ],
      "metadata": {
        "id": "jOiPep-_FPGq"
      }
    },
    {
      "cell_type": "markdown",
      "source": [
        "This is basic training of RoBERTa but, if your dataset is larger, you may use K-Folds in this section. In this notebook, I use K-Folds (use it as inspiration): https://www.kaggle.com/dimasmunoz/clean-english-data-roberta ;)"
      ],
      "metadata": {
        "id": "NGJjTwrjFPGq"
      }
    },
    {
      "cell_type": "code",
      "source": [
        "with strategy.scope():\n",
        "    print('Training...')\n",
        "    history = model.fit(X_train,\n",
        "                        y_train,\n",
        "                        epochs=EPOCHS,\n",
        "                        batch_size=BATCH_SIZE,\n",
        "                        verbose=1,\n",
        "                        validation_data=(X_test, y_test))"
      ],
      "metadata": {
        "execution": {
          "iopub.status.busy": "2021-08-19T22:03:24.174783Z",
          "iopub.execute_input": "2021-08-19T22:03:24.175194Z",
          "iopub.status.idle": "2021-08-19T22:07:20.178540Z",
          "shell.execute_reply.started": "2021-08-19T22:03:24.175147Z",
          "shell.execute_reply": "2021-08-19T22:07:20.177615Z"
        },
        "trusted": true,
        "id": "UMabKgNXFPGq",
        "outputId": "c4cb1a6b-23ca-455f-8c42-7b40c89d1dc1",
        "colab": {
          "base_uri": "https://localhost:8080/"
        }
      },
      "execution_count": 213,
      "outputs": [
        {
          "output_type": "stream",
          "name": "stdout",
          "text": [
            "Training...\n",
            "Epoch 1/3\n",
            "WARNING:tensorflow:Gradients do not exist for variables ['tf_roberta_model_6/roberta/pooler/dense/kernel:0', 'tf_roberta_model_6/roberta/pooler/dense/bias:0'] when minimizing the loss. If you're using `model.compile()`, did you forget to provide a `loss`argument?\n",
            "WARNING:tensorflow:Gradients do not exist for variables ['tf_roberta_model_6/roberta/pooler/dense/kernel:0', 'tf_roberta_model_6/roberta/pooler/dense/bias:0'] when minimizing the loss. If you're using `model.compile()`, did you forget to provide a `loss`argument?\n",
            "2505/2505 [==============================] - 1367s 531ms/step - loss: 0.2635 - accuracy: 0.8870 - val_loss: 0.1673 - val_accuracy: 0.9320\n",
            "Epoch 2/3\n",
            "2505/2505 [==============================] - 1324s 528ms/step - loss: 0.1380 - accuracy: 0.9475 - val_loss: 0.1674 - val_accuracy: 0.9301\n",
            "Epoch 3/3\n",
            "2505/2505 [==============================] - 1323s 528ms/step - loss: 0.0834 - accuracy: 0.9677 - val_loss: 0.1797 - val_accuracy: 0.9370\n"
          ]
        }
      ]
    },
    {
      "cell_type": "code",
      "source": [
        "# This plot will look much better if we train models with more epochs, but anyway here is\n",
        "plt.figure(figsize=(10, 10))\n",
        "plt.title('Accuracy')\n",
        "\n",
        "xaxis = np.arange(len(history.history['accuracy']))\n",
        "plt.plot(xaxis, history.history['accuracy'], label='Train set')\n",
        "plt.plot(xaxis, history.history['val_accuracy'], label='Validation set')\n",
        "plt.legend()"
      ],
      "metadata": {
        "execution": {
          "iopub.status.busy": "2021-08-19T22:07:20.180067Z",
          "iopub.execute_input": "2021-08-19T22:07:20.180477Z",
          "iopub.status.idle": "2021-08-19T22:07:20.447903Z",
          "shell.execute_reply.started": "2021-08-19T22:07:20.180423Z",
          "shell.execute_reply": "2021-08-19T22:07:20.446836Z"
        },
        "trusted": true,
        "id": "pakEgK3vFPGq",
        "outputId": "223bebfe-0340-461b-be4d-948ddfaf2af2",
        "colab": {
          "base_uri": "https://localhost:8080/",
          "height": 624
        }
      },
      "execution_count": 214,
      "outputs": [
        {
          "output_type": "execute_result",
          "data": {
            "text/plain": [
              "<matplotlib.legend.Legend at 0x7f31be8e0e90>"
            ]
          },
          "metadata": {},
          "execution_count": 214
        },
        {
          "output_type": "display_data",
          "data": {
            "image/png": "[encoded data removed]",
            "text/plain": [
              "<Figure size 720x720 with 1 Axes>"
            ]
          },
          "metadata": {
            "needs_background": "light"
          }
        }
      ]
    },
    {
      "cell_type": "markdown",
      "source": [
        "# Evaluation\n",
        "In a confusion matrix, we can see how many categories are classified c\n",
        "\n"
      ],
      "metadata": {
        "id": "ehrHZDqHFPGr"
      }
    },
    {
      "cell_type": "code",
      "source": [
        "def plot_confusion_matrix(X_test, y_test, model):\n",
        "    #y_pred = model.predict(X_test)\n",
        "    y_pred = model.predict(X_test)\n",
        "\n",
        "    con_mat = tf.math.confusion_matrix(labels=y_test, predictions=y_pred).numpy()\n",
        "\n",
        "    con_mat_norm = np.around(con_mat.astype('float') / con_mat.sum(axis=1)[:, np.newaxis], decimals=2)\n",
        "    label_names = list(range(len(con_mat_norm)))\n",
        "\n",
        "    con_mat_df = pd.DataFrame(con_mat_norm,\n",
        "                              index=label_names, \n",
        "                              columns=label_names)\n",
        "\n",
        "    figure = plt.figure(figsize=(10, 10))\n",
        "    sns.heatmap(con_mat_df, cmap=plt.cm.Blues, annot=True)\n",
        "    plt.ylabel('True label')\n",
        "    plt.xlabel('Predicted label')"
      ],
      "metadata": {
        "execution": {
          "iopub.status.busy": "2021-08-19T22:07:20.449058Z",
          "iopub.execute_input": "2021-08-19T22:07:20.449337Z",
          "iopub.status.idle": "2021-08-19T22:07:20.457288Z",
          "shell.execute_reply.started": "2021-08-19T22:07:20.449310Z",
          "shell.execute_reply": "2021-08-19T22:07:20.456218Z"
        },
        "trusted": true,
        "id": "UC7dhSsQFPGr"
      },
      "execution_count": 215,
      "outputs": []
    },
    {
      "cell_type": "code",
      "source": [
        "y_pred =  model.predict(X_test)"
      ],
      "metadata": {
        "execution": {
          "iopub.status.busy": "2021-08-19T22:07:20.460884Z",
          "iopub.execute_input": "2021-08-19T22:07:20.461170Z",
          "iopub.status.idle": "2021-08-19T22:07:41.411764Z",
          "shell.execute_reply.started": "2021-08-19T22:07:20.461144Z",
          "shell.execute_reply": "2021-08-19T22:07:41.410667Z"
        },
        "trusted": true,
        "id": "-XBPv_7uFPGr"
      },
      "execution_count": 216,
      "outputs": []
    },
    {
      "cell_type": "code",
      "source": [
        "y_pred = np.round(y_pred).astype(int)"
      ],
      "metadata": {
        "id": "D8Mnk9pc8Ux_"
      },
      "execution_count": 218,
      "outputs": []
    },
    {
      "cell_type": "code",
      "source": [
        "print(classification_report(y_test, y_pred))"
      ],
      "metadata": {
        "execution": {
          "iopub.status.busy": "2021-08-19T22:07:41.413632Z",
          "iopub.execute_input": "2021-08-19T22:07:41.413921Z",
          "iopub.status.idle": "2021-08-19T22:07:41.444703Z",
          "shell.execute_reply.started": "2021-08-19T22:07:41.413892Z",
          "shell.execute_reply": "2021-08-19T22:07:41.443624Z"
        },
        "trusted": true,
        "id": "W6Eqyuj8FPGr",
        "outputId": "9f02a4bd-edd1-4c9f-ec6e-e45d93a494e6",
        "colab": {
          "base_uri": "https://localhost:8080/"
        }
      },
      "execution_count": 219,
      "outputs": [
        {
          "output_type": "stream",
          "name": "stdout",
          "text": [
            "              precision    recall  f1-score   support\n",
            "\n",
            "           0       0.95      0.92      0.94      4458\n",
            "           1       0.92      0.95      0.94      4128\n",
            "\n",
            "    accuracy                           0.94      8586\n",
            "   macro avg       0.94      0.94      0.94      8586\n",
            "weighted avg       0.94      0.94      0.94      8586\n",
            "\n"
          ]
        }
      ]
    },
    {
      "cell_type": "code",
      "source": [
        "cm = confusion_matrix(y_test,y_pred)\n",
        "cm"
      ],
      "metadata": {
        "execution": {
          "iopub.status.busy": "2021-08-19T22:09:25.773631Z",
          "iopub.execute_input": "2021-08-19T22:09:25.774016Z",
          "iopub.status.idle": "2021-08-19T22:09:25.828400Z",
          "shell.execute_reply.started": "2021-08-19T22:09:25.773982Z",
          "shell.execute_reply": "2021-08-19T22:09:25.827126Z"
        },
        "trusted": true,
        "id": "vnbX1FBkFPGs",
        "outputId": "c782334a-f29d-4c35-a013-2fe625d44887",
        "colab": {
          "base_uri": "https://localhost:8080/"
        }
      },
      "execution_count": 220,
      "outputs": [
        {
          "output_type": "execute_result",
          "data": {
            "text/plain": [
              "array([[4114,  344],\n",
              "       [ 197, 3931]])"
            ]
          },
          "metadata": {},
          "execution_count": 220
        }
      ]
    },
    {
      "cell_type": "code",
      "source": [
        "plt.figure(figsize = (10,10))\n",
        "sns.heatmap(cm,cmap= \"Blues\", linecolor = 'black' , linewidth = 1 , annot = True, fmt='')\n",
        "plt.xlabel(\"Predicted\")\n",
        "plt.ylabel(\"Actual\")"
      ],
      "metadata": {
        "execution": {
          "iopub.status.busy": "2021-08-19T22:09:32.181514Z",
          "iopub.execute_input": "2021-08-19T22:09:32.181880Z",
          "iopub.status.idle": "2021-08-19T22:09:32.461236Z",
          "shell.execute_reply.started": "2021-08-19T22:09:32.181851Z",
          "shell.execute_reply": "2021-08-19T22:09:32.460223Z"
        },
        "trusted": true,
        "id": "wNJjm9FkFPGs",
        "outputId": "0e74bd8c-aa37-4c6e-f9c4-63d1effb6fcd",
        "colab": {
          "base_uri": "https://localhost:8080/",
          "height": 623
        }
      },
      "execution_count": 221,
      "outputs": [
        {
          "output_type": "execute_result",
          "data": {
            "text/plain": [
              "Text(69.0, 0.5, 'Actual')"
            ]
          },
          "metadata": {},
          "execution_count": 221
        },
        {
          "output_type": "display_data",
          "data": {
            "image/png": "[encoded data removed]",
            "text/plain": [
              "<Figure size 720x720 with 2 Axes>"
            ]
          },
          "metadata": {
            "needs_background": "light"
          }
        }
      ]
    },
    {
      "cell_type": "code",
      "source": [
        "scores = model.evaluate(X_test, y_test, verbose=0)\n",
        "print(\"Accuracy: %.2f%%\" % (scores[1] * 100))"
      ],
      "metadata": {
        "execution": {
          "iopub.status.busy": "2021-08-19T22:09:36.674067Z",
          "iopub.execute_input": "2021-08-19T22:09:36.674719Z",
          "iopub.status.idle": "2021-08-19T22:09:46.406095Z",
          "shell.execute_reply.started": "2021-08-19T22:09:36.674668Z",
          "shell.execute_reply": "2021-08-19T22:09:46.405062Z"
        },
        "trusted": true,
        "id": "qDriThQSFPGs",
        "outputId": "e08e5871-8186-4a9f-d63e-3473c2719db7",
        "colab": {
          "base_uri": "https://localhost:8080/"
        }
      },
      "execution_count": 222,
      "outputs": [
        {
          "output_type": "stream",
          "name": "stdout",
          "text": [
            "Accuracy: 93.70%\n"
          ]
        }
      ]
    },
    {
      "cell_type": "code",
      "source": [
        "plot_confusion_matrix(X_test, y_test, model)"
      ],
      "metadata": {
        "execution": {
          "iopub.status.busy": "2021-08-19T22:09:56.394033Z",
          "iopub.execute_input": "2021-08-19T22:09:56.394423Z",
          "iopub.status.idle": "2021-08-19T22:10:10.218401Z",
          "shell.execute_reply.started": "2021-08-19T22:09:56.394387Z",
          "shell.execute_reply": "2021-08-19T22:10:10.217392Z"
        },
        "trusted": true,
        "id": "6j-9RXgHFPGs",
        "outputId": "c75ba9ed-01fa-4037-94bb-658fd817730e",
        "colab": {
          "base_uri": "https://localhost:8080/",
          "height": 610
        }
      },
      "execution_count": 223,
      "outputs": [
        {
          "output_type": "display_data",
          "data": {
            "image/png": "[encoded data removed]",
            "text/plain": [
              "<Figure size 720x720 with 2 Axes>"
            ]
          },
          "metadata": {
            "needs_background": "light"
          }
        }
      ]
    },
    {
      "cell_type": "code",
      "source": [
        "# serialize model to JSON\n",
        "model_json = model.to_json()\n",
        "with open(\"roberta-model.json\", \"w\") as json_file:\n",
        "    json_file.write(model_json)\n",
        "# serialize weights to HDF5\n",
        "model.save_weights(\"roberta-model.h5\")\n",
        "print(\"Saved model to disk\")"
      ],
      "metadata": {
        "id": "jlBGVJ6VWcxQ",
        "colab": {
          "base_uri": "https://localhost:8080/"
        },
        "outputId": "240578aa-b883-4c86-bf79-49199234618f"
      },
      "execution_count": 224,
      "outputs": [
        {
          "output_type": "stream",
          "name": "stdout",
          "text": [
            "Saved model to disk\n"
          ]
        }
      ]
    },
    {
      "cell_type": "code",
      "source": [
        "from keras.models import model_from_json\n",
        "from transformers import BertTokenizer, TFBertModel,TFRobertaModel"
      ],
      "metadata": {
        "id": "sFjN6kVUWvHJ"
      },
      "execution_count": 229,
      "outputs": []
    },
    {
      "cell_type": "code",
      "source": [
        "# load json and create model\n",
        "json_file = open('roberta-model.json', 'r')\n",
        "loaded_model_json = json_file.read()\n",
        "json_file.close()\n",
        "loaded_model = model_from_json(loaded_model_json,custom_objects={'TFRobertaModel': TFRobertaModel})\n",
        "# load weights into new model\n",
        "loaded_model.load_weights(\"roberta-model.h5\")\n",
        "print(\"Loaded model from disk\")"
      ],
      "metadata": {
        "id": "-Ew5MD_bW0qb",
        "colab": {
          "base_uri": "https://localhost:8080/"
        },
        "outputId": "4be4eb17-d8f2-426d-b3b5-c35bb1bd43d9"
      },
      "execution_count": 230,
      "outputs": [
        {
          "output_type": "stream",
          "name": "stdout",
          "text": [
            "Loaded model from disk\n"
          ]
        }
      ]
    },
    {
      "cell_type": "code",
      "source": [
        "loaded_model.compile(\n",
        "            optimizer=tf.keras.optimizers.Adam(lr=1e-5),\n",
        "            loss='binary_crossentropy',\n",
        "            metrics=['accuracy'])"
      ],
      "metadata": {
        "id": "apEdZgO-7r1T"
      },
      "execution_count": 231,
      "outputs": []
    },
    {
      "cell_type": "code",
      "source": [
        "print(\"Accuracy of the model on Testing Data is - \" , loaded_model.evaluate(X_test,y_test)[1]*100 , \"%\")"
      ],
      "metadata": {
        "id": "7nf0_XSgXFk5",
        "colab": {
          "base_uri": "https://localhost:8080/"
        },
        "outputId": "ce346c36-85ca-4322-fa28-a56193574926"
      },
      "execution_count": 232,
      "outputs": [
        {
          "output_type": "stream",
          "name": "stdout",
          "text": [
            "269/269 [==============================] - 147s 527ms/step - loss: 0.1797 - accuracy: 0.9370\n",
            "Accuracy of the model on Testing Data is -  93.69904398918152 %\n"
          ]
        }
      ]
    }
  ]
}