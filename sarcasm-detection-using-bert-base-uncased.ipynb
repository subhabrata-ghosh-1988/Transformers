{
  "metadata": {
    "kernelspec": {
      "language": "python",
      "display_name": "Python 3",
      "name": "python3"
    },
    "language_info": {
      "name": "python",
      "version": "3.7.6",
      "mimetype": "text/x-python",
      "codemirror_mode": {
        "name": "ipython",
        "version": 3
      },
      "pygments_lexer": "ipython3",
      "nbconvert_exporter": "python",
      "file_extension": ".py"
    },
    "colab": {
      "name": "sarcasm-detection-using-bert-base-uncased.ipynb",
      "provenance": [],
      "include_colab_link": true
    },
    "accelerator": "GPU"
  },
  "nbformat_minor": 0,
  "nbformat": 4,
  "cells": [
    {
      "cell_type": "markdown",
      "metadata": {
        "id": "view-in-github",
        "colab_type": "text"
      },
      "source": [
        "<a href=\"https://colab.research.google.com/github/subhabrata-ghosh-1988/Transformers/blob/main/sarcasm-detection-using-bert-base-uncased.ipynb\" target=\"_parent\"><img src=\"https://colab.research.google.com/assets/colab-badge.svg\" alt=\"Open In Colab\"/></a>"
      ]
    },
    {
      "cell_type": "markdown",
      "source": [
        "## Sarcasm Detection \n",
        "\n",
        "Sarcasm detection unlike sentiment analysis or simple text classification requires a lot of information about human interaction semantics, the model needs to know about how humans actually interact and it also needs to know the context in which certain words are used while being sarcastic and when not sarcastic.\n",
        "\n",
        "### In this notebook, we will try using the BERT classifier.\n",
        "\n",
        "## BERT - Bidirectional Encoder Representations from Transformers"
      ],
      "metadata": {
        "id": "dGRinrtc_czq"
      }
    },
    {
      "cell_type": "markdown",
      "source": [
        "1. BERT’s key technical innovation is applying the bidirectional training of Transformer, a popular attention model, to language modelling. \n",
        "2. This is in contrast to previous efforts which looked at a text sequence either from left to right or combined left-to-right and right-to-left training. \n",
        "3. The paper’s results show that a language model which is bidirectionally trained can have a deeper sense of language context and flow than single-direction language models. \n",
        "4. In the paper, the researchers detail a novel technique named Masked LM (MLM) which allows bidirectional training in models in which was previously impossible."
      ],
      "metadata": {
        "id": "LaygZPC6_czx"
      }
    },
    {
      "cell_type": "code",
      "source": [
        "# This Python 3 environment comes with many helpful analytics libraries installed\n",
        "# It is defined by the kaggle/python Docker image: https://github.com/kaggle/docker-python\n",
        "# For example, here's several helpful packages to load\n",
        "\n",
        "import numpy as np # linear algebra\n",
        "import pandas as pd # data processing, CSV file I/O (e.g. pd.read_csv)\n",
        "\n",
        "# Input data files are available in the read-only \"../input/\" directory\n",
        "# For example, running this (by clicking run or pressing Shift+Enter) will list all files under the input directory\n",
        "\n",
        "import os\n",
        "for dirname, _, filenames in os.walk('/content/kaggle/input'):\n",
        "    for filename in filenames:\n",
        "        print(os.path.join(dirname, filename))\n",
        "\n",
        "# You can write up to 5GB to the current directory (/kaggle/working/) that gets preserved as output when you create a version using \"Save & Run All\" \n",
        "# You can also write temporary files to /kaggle/temp/, but they won't be saved outside of the current session"
      ],
      "metadata": {
        "_uuid": "8f2839f25d086af736a60e9eeb907d3b93b6e0e5",
        "_cell_guid": "b1076dfc-b9ad-4769-8c92-a6c4dae69d19",
        "execution": {
          "iopub.status.busy": "2021-08-19T19:51:32.971933Z",
          "iopub.execute_input": "2021-08-19T19:51:32.972273Z",
          "iopub.status.idle": "2021-08-19T19:51:32.989757Z",
          "shell.execute_reply.started": "2021-08-19T19:51:32.972241Z",
          "shell.execute_reply": "2021-08-19T19:51:32.988874Z"
        },
        "trusted": true,
        "id": "AU4hlBWt_czz"
      },
      "execution_count": 45,
      "outputs": []
    },
    {
      "cell_type": "code",
      "source": [
        "pip install --upgrade pip"
      ],
      "metadata": {
        "execution": {
          "iopub.status.busy": "2021-08-19T19:51:32.991936Z",
          "iopub.execute_input": "2021-08-19T19:51:32.992333Z",
          "iopub.status.idle": "2021-08-19T19:51:43.010436Z",
          "shell.execute_reply.started": "2021-08-19T19:51:32.992294Z",
          "shell.execute_reply": "2021-08-19T19:51:43.009591Z"
        },
        "trusted": true,
        "id": "0hEUDzAY_cz2",
        "colab": {
          "base_uri": "https://localhost:8080/"
        },
        "outputId": "b37160e8-fc23-4762-ac72-35a2b5d3db38"
      },
      "execution_count": 46,
      "outputs": [
        {
          "output_type": "stream",
          "name": "stdout",
          "text": [
            "Requirement already satisfied: pip in /usr/local/lib/python3.7/dist-packages (22.0.3)\n",
            "\u001b[33mWARNING: Running pip as the 'root' user can result in broken permissions and conflicting behaviour with the system package manager. It is recommended to use a virtual environment instead: https://pip.pypa.io/warnings/venv\u001b[0m\u001b[33m\n",
            "\u001b[0m"
          ]
        }
      ]
    },
    {
      "cell_type": "code",
      "source": [
        "import numpy as np\n",
        "import pandas as pd\n",
        "import seaborn as sns\n",
        "import matplotlib.pyplot as plt\n",
        "#import plotly.express as px\n",
        "\n",
        "import nltk\n",
        "nltk.download('stopwords')\n",
        "from sklearn.feature_extraction.text import CountVectorizer\n",
        "from nltk.corpus import stopwords\n",
        "from wordcloud import WordCloud,STOPWORDS\n",
        "from nltk.stem import WordNetLemmatizer\n",
        "from nltk.tokenize import word_tokenize\n",
        "from bs4 import BeautifulSoup\n",
        "import re,string,unicodedata\n",
        "from sklearn.metrics import classification_report,confusion_matrix,accuracy_score,f1_score\n",
        "from sklearn.model_selection import train_test_split\n",
        "from string import punctuation\n",
        "from nltk import pos_tag\n",
        "from nltk.corpus import wordnet\n",
        "\n",
        "import random\n",
        "import torch\n",
        "import keras\n",
        "import tensorflow as tf\n",
        "import tensorflow_hub as hub\n",
        "from tensorflow import keras \n",
        "from keras import backend as K\n",
        "from tensorflow.keras.preprocessing import sequence\n",
        "from tensorflow.keras.preprocessing.text import Tokenizer\n",
        "from tensorflow.keras.preprocessing.sequence import pad_sequences\n",
        "from tensorflow.keras.optimizers import Adam\n",
        "from keras.layers import LSTM,Dense,Bidirectional,Input\n",
        "from keras.models import Model\n",
        "import torch\n",
        "!pip install transformers\n",
        "import transformers"
      ],
      "metadata": {
        "_uuid": "d629ff2d2480ee46fbb7e2d37f6b5fab8052498a",
        "_cell_guid": "79c7e3d0-c299-4dcb-8224-4455121ee9b0",
        "execution": {
          "iopub.status.busy": "2021-08-19T19:51:43.012636Z",
          "iopub.execute_input": "2021-08-19T19:51:43.012909Z",
          "iopub.status.idle": "2021-08-19T19:51:52.184696Z",
          "shell.execute_reply.started": "2021-08-19T19:51:43.012882Z",
          "shell.execute_reply": "2021-08-19T19:51:52.183813Z"
        },
        "trusted": true,
        "id": "4IrcFAsh_cz3",
        "colab": {
          "base_uri": "https://localhost:8080/"
        },
        "outputId": "e9efd732-16f8-4ab0-d3fb-bb490a7a2bf6"
      },
      "execution_count": 47,
      "outputs": [
        {
          "output_type": "stream",
          "name": "stdout",
          "text": [
            "[nltk_data] Downloading package stopwords to /root/nltk_data...\n",
            "[nltk_data]   Package stopwords is already up-to-date!\n",
            "Requirement already satisfied: transformers in /usr/local/lib/python3.7/dist-packages (4.16.2)\n",
            "Requirement already satisfied: tqdm>=4.27 in /usr/local/lib/python3.7/dist-packages (from transformers) (4.62.3)\n",
            "Requirement already satisfied: tokenizers!=0.11.3,>=0.10.1 in /usr/local/lib/python3.7/dist-packages (from transformers) (0.11.4)\n",
            "Requirement already satisfied: regex!=2019.12.17 in /usr/local/lib/python3.7/dist-packages (from transformers) (2019.12.20)\n",
            "Requirement already satisfied: huggingface-hub<1.0,>=0.1.0 in /usr/local/lib/python3.7/dist-packages (from transformers) (0.4.0)\n",
            "Requirement already satisfied: requests in /usr/local/lib/python3.7/dist-packages (from transformers) (2.23.0)\n",
            "Requirement already satisfied: sacremoses in /usr/local/lib/python3.7/dist-packages (from transformers) (0.0.47)\n",
            "Requirement already satisfied: importlib-metadata in /usr/local/lib/python3.7/dist-packages (from transformers) (4.10.1)\n",
            "Requirement already satisfied: numpy>=1.17 in /usr/local/lib/python3.7/dist-packages (from transformers) (1.19.5)\n",
            "Requirement already satisfied: filelock in /usr/local/lib/python3.7/dist-packages (from transformers) (3.4.2)\n",
            "Requirement already satisfied: packaging>=20.0 in /usr/local/lib/python3.7/dist-packages (from transformers) (21.3)\n",
            "Requirement already satisfied: pyyaml>=5.1 in /usr/local/lib/python3.7/dist-packages (from transformers) (6.0)\n",
            "Requirement already satisfied: typing-extensions>=3.7.4.3 in /usr/local/lib/python3.7/dist-packages (from huggingface-hub<1.0,>=0.1.0->transformers) (3.10.0.2)\n",
            "Requirement already satisfied: pyparsing!=3.0.5,>=2.0.2 in /usr/local/lib/python3.7/dist-packages (from packaging>=20.0->transformers) (3.0.7)\n",
            "Requirement already satisfied: zipp>=0.5 in /usr/local/lib/python3.7/dist-packages (from importlib-metadata->transformers) (3.7.0)\n",
            "Requirement already satisfied: chardet<4,>=3.0.2 in /usr/local/lib/python3.7/dist-packages (from requests->transformers) (3.0.4)\n",
            "Requirement already satisfied: idna<3,>=2.5 in /usr/local/lib/python3.7/dist-packages (from requests->transformers) (2.10)\n",
            "Requirement already satisfied: certifi>=2017.4.17 in /usr/local/lib/python3.7/dist-packages (from requests->transformers) (2021.10.8)\n",
            "Requirement already satisfied: urllib3!=1.25.0,!=1.25.1,<1.26,>=1.21.1 in /usr/local/lib/python3.7/dist-packages (from requests->transformers) (1.24.3)\n",
            "Requirement already satisfied: joblib in /usr/local/lib/python3.7/dist-packages (from sacremoses->transformers) (1.1.0)\n",
            "Requirement already satisfied: six in /usr/local/lib/python3.7/dist-packages (from sacremoses->transformers) (1.15.0)\n",
            "Requirement already satisfied: click in /usr/local/lib/python3.7/dist-packages (from sacremoses->transformers) (7.1.2)\n",
            "\u001b[33mWARNING: Running pip as the 'root' user can result in broken permissions and conflicting behaviour with the system package manager. It is recommended to use a virtual environment instead: https://pip.pypa.io/warnings/venv\u001b[0m\u001b[33m\n",
            "\u001b[0m"
          ]
        }
      ]
    },
    {
      "cell_type": "code",
      "source": [
        "def set_seed(seed):\n",
        "        # For reproducibility\n",
        "        os.environ['PYTHONHASHSEED']=str(seed)\n",
        "        random.seed(seed)\n",
        "        np.random.seed(seed)\n",
        "        tf.random.set_seed(seed)\n",
        "        torch.manual_seed(seed)\n",
        "        torch.cuda.manual_seed_all(seed)"
      ],
      "metadata": {
        "id": "Kd_RO8ya9pVr"
      },
      "execution_count": 48,
      "outputs": []
    },
    {
      "cell_type": "code",
      "source": [
        "set_seed(42)"
      ],
      "metadata": {
        "id": "_1FHb-Kk9t-X"
      },
      "execution_count": 49,
      "outputs": []
    },
    {
      "cell_type": "markdown",
      "source": [
        "## 1. Importing Data"
      ],
      "metadata": {
        "id": "XnUX_Iz7_cz5"
      }
    },
    {
      "cell_type": "code",
      "source": [
        "df = pd.read_json(\"https://raw.githubusercontent.com/subhabrata-ghosh-1988/Transformers/main/Sarcasm_Headlines_Dataset_v2.json\", lines=True)\n",
        "df.head()"
      ],
      "metadata": {
        "execution": {
          "iopub.status.busy": "2021-08-19T19:51:52.187033Z",
          "iopub.execute_input": "2021-08-19T19:51:52.187340Z",
          "iopub.status.idle": "2021-08-19T19:51:52.761959Z",
          "shell.execute_reply.started": "2021-08-19T19:51:52.187309Z",
          "shell.execute_reply": "2021-08-19T19:51:52.761125Z"
        },
        "trusted": true,
        "id": "AFNzPtVr_cz6",
        "colab": {
          "base_uri": "https://localhost:8080/",
          "height": 205
        },
        "outputId": "ba04b7f0-f90b-4381-f71f-41ff04f03156"
      },
      "execution_count": 50,
      "outputs": [
        {
          "output_type": "execute_result",
          "data": {
            "text/html": [
              "\n",
              "  <div id=\"df-3bbe68c3-30eb-41f3-84bf-cac787b112bf\">\n",
              "    <div class=\"colab-df-container\">\n",
              "      <div>\n",
              "<style scoped>\n",
              "    .dataframe tbody tr th:only-of-type {\n",
              "        vertical-align: middle;\n",
              "    }\n",
              "\n",
              "    .dataframe tbody tr th {\n",
              "        vertical-align: top;\n",
              "    }\n",
              "\n",
              "    .dataframe thead th {\n",
              "        text-align: right;\n",
              "    }\n",
              "</style>\n",
              "<table border=\"1\" class=\"dataframe\">\n",
              "  <thead>\n",
              "    <tr style=\"text-align: right;\">\n",
              "      <th></th>\n",
              "      <th>is_sarcastic</th>\n",
              "      <th>headline</th>\n",
              "      <th>article_link</th>\n",
              "    </tr>\n",
              "  </thead>\n",
              "  <tbody>\n",
              "    <tr>\n",
              "      <th>0</th>\n",
              "      <td>1</td>\n",
              "      <td>thirtysomething scientists unveil doomsday clo...</td>\n",
              "      <td>https://www.theonion.com/thirtysomething-scien...</td>\n",
              "    </tr>\n",
              "    <tr>\n",
              "      <th>1</th>\n",
              "      <td>0</td>\n",
              "      <td>dem rep. totally nails why congress is falling...</td>\n",
              "      <td>https://www.huffingtonpost.com/entry/donna-edw...</td>\n",
              "    </tr>\n",
              "    <tr>\n",
              "      <th>2</th>\n",
              "      <td>0</td>\n",
              "      <td>eat your veggies: 9 deliciously different recipes</td>\n",
              "      <td>https://www.huffingtonpost.com/entry/eat-your-...</td>\n",
              "    </tr>\n",
              "    <tr>\n",
              "      <th>3</th>\n",
              "      <td>1</td>\n",
              "      <td>inclement weather prevents liar from getting t...</td>\n",
              "      <td>https://local.theonion.com/inclement-weather-p...</td>\n",
              "    </tr>\n",
              "    <tr>\n",
              "      <th>4</th>\n",
              "      <td>1</td>\n",
              "      <td>mother comes pretty close to using word 'strea...</td>\n",
              "      <td>https://www.theonion.com/mother-comes-pretty-c...</td>\n",
              "    </tr>\n",
              "  </tbody>\n",
              "</table>\n",
              "</div>\n",
              "      <button class=\"colab-df-convert\" onclick=\"convertToInteractive('df-3bbe68c3-30eb-41f3-84bf-cac787b112bf')\"\n",
              "              title=\"Convert this dataframe to an interactive table.\"\n",
              "              style=\"display:none;\">\n",
              "        \n",
              "  <svg xmlns=\"http://www.w3.org/2000/svg\" height=\"24px\"viewBox=\"0 0 24 24\"\n",
              "       width=\"24px\">\n",
              "    <path d=\"M0 0h24v24H0V0z\" fill=\"none\"/>\n",
              "    <path d=\"M18.56 5.44l.94 2.06.94-2.06 2.06-.94-2.06-.94-.94-2.06-.94 2.06-2.06.94zm-11 1L8.5 8.5l.94-2.06 2.06-.94-2.06-.94L8.5 2.5l-.94 2.06-2.06.94zm10 10l.94 2.06.94-2.06 2.06-.94-2.06-.94-.94-2.06-.94 2.06-2.06.94z\"/><path d=\"M17.41 7.96l-1.37-1.37c-.4-.4-.92-.59-1.43-.59-.52 0-1.04.2-1.43.59L10.3 9.45l-7.72 7.72c-.78.78-.78 2.05 0 2.83L4 21.41c.39.39.9.59 1.41.59.51 0 1.02-.2 1.41-.59l7.78-7.78 2.81-2.81c.8-.78.8-2.07 0-2.86zM5.41 20L4 18.59l7.72-7.72 1.47 1.35L5.41 20z\"/>\n",
              "  </svg>\n",
              "      </button>\n",
              "      \n",
              "  <style>\n",
              "    .colab-df-container {\n",
              "      display:flex;\n",
              "      flex-wrap:wrap;\n",
              "      gap: 12px;\n",
              "    }\n",
              "\n",
              "    .colab-df-convert {\n",
              "      background-color: #E8F0FE;\n",
              "      border: none;\n",
              "      border-radius: 50%;\n",
              "      cursor: pointer;\n",
              "      display: none;\n",
              "      fill: #1967D2;\n",
              "      height: 32px;\n",
              "      padding: 0 0 0 0;\n",
              "      width: 32px;\n",
              "    }\n",
              "\n",
              "    .colab-df-convert:hover {\n",
              "      background-color: #E2EBFA;\n",
              "      box-shadow: 0px 1px 2px rgba(60, 64, 67, 0.3), 0px 1px 3px 1px rgba(60, 64, 67, 0.15);\n",
              "      fill: #174EA6;\n",
              "    }\n",
              "\n",
              "    [theme=dark] .colab-df-convert {\n",
              "      background-color: #3B4455;\n",
              "      fill: #D2E3FC;\n",
              "    }\n",
              "\n",
              "    [theme=dark] .colab-df-convert:hover {\n",
              "      background-color: #434B5C;\n",
              "      box-shadow: 0px 1px 3px 1px rgba(0, 0, 0, 0.15);\n",
              "      filter: drop-shadow(0px 1px 2px rgba(0, 0, 0, 0.3));\n",
              "      fill: #FFFFFF;\n",
              "    }\n",
              "  </style>\n",
              "\n",
              "      <script>\n",
              "        const buttonEl =\n",
              "          document.querySelector('#df-3bbe68c3-30eb-41f3-84bf-cac787b112bf button.colab-df-convert');\n",
              "        buttonEl.style.display =\n",
              "          google.colab.kernel.accessAllowed ? 'block' : 'none';\n",
              "\n",
              "        async function convertToInteractive(key) {\n",
              "          const element = document.querySelector('#df-3bbe68c3-30eb-41f3-84bf-cac787b112bf');\n",
              "          const dataTable =\n",
              "            await google.colab.kernel.invokeFunction('convertToInteractive',\n",
              "                                                     [key], {});\n",
              "          if (!dataTable) return;\n",
              "\n",
              "          const docLinkHtml = 'Like what you see? Visit the ' +\n",
              "            '<a target=\"_blank\" href=https://colab.research.google.com/notebooks/data_table.ipynb>data table notebook</a>'\n",
              "            + ' to learn more about interactive tables.';\n",
              "          element.innerHTML = '';\n",
              "          dataTable['output_type'] = 'display_data';\n",
              "          await google.colab.output.renderOutput(dataTable, element);\n",
              "          const docLink = document.createElement('div');\n",
              "          docLink.innerHTML = docLinkHtml;\n",
              "          element.appendChild(docLink);\n",
              "        }\n",
              "      </script>\n",
              "    </div>\n",
              "  </div>\n",
              "  "
            ],
            "text/plain": [
              "   is_sarcastic  ...                                       article_link\n",
              "0             1  ...  https://www.theonion.com/thirtysomething-scien...\n",
              "1             0  ...  https://www.huffingtonpost.com/entry/donna-edw...\n",
              "2             0  ...  https://www.huffingtonpost.com/entry/eat-your-...\n",
              "3             1  ...  https://local.theonion.com/inclement-weather-p...\n",
              "4             1  ...  https://www.theonion.com/mother-comes-pretty-c...\n",
              "\n",
              "[5 rows x 3 columns]"
            ]
          },
          "metadata": {},
          "execution_count": 50
        }
      ]
    },
    {
      "cell_type": "code",
      "source": [
        "df.drop('article_link', axis=1, inplace=True)"
      ],
      "metadata": {
        "execution": {
          "iopub.status.busy": "2021-08-19T19:51:52.763379Z",
          "iopub.execute_input": "2021-08-19T19:51:52.763732Z",
          "iopub.status.idle": "2021-08-19T19:51:52.773945Z",
          "shell.execute_reply.started": "2021-08-19T19:51:52.763694Z",
          "shell.execute_reply": "2021-08-19T19:51:52.773043Z"
        },
        "trusted": true,
        "id": "UrZMuNMO_cz7"
      },
      "execution_count": 51,
      "outputs": []
    },
    {
      "cell_type": "markdown",
      "source": [
        "## 2. Basic Data Cleaning"
      ],
      "metadata": {
        "id": "L7sAUW7-_cz8"
      }
    },
    {
      "cell_type": "code",
      "source": [
        "stop = set(stopwords.words('english'))\n",
        "punctuation = list(string.punctuation)\n",
        "stop.update(punctuation)"
      ],
      "metadata": {
        "execution": {
          "iopub.status.busy": "2021-08-19T19:51:52.775359Z",
          "iopub.execute_input": "2021-08-19T19:51:52.776020Z",
          "iopub.status.idle": "2021-08-19T19:51:52.788598Z",
          "shell.execute_reply.started": "2021-08-19T19:51:52.775975Z",
          "shell.execute_reply": "2021-08-19T19:51:52.787909Z"
        },
        "trusted": true,
        "id": "4yX9hXp-_cz8"
      },
      "execution_count": 52,
      "outputs": []
    },
    {
      "cell_type": "code",
      "source": [
        "def strip_html(text):\n",
        "    soup = BeautifulSoup(text, \"html.parser\")\n",
        "    return soup.get_text()\n",
        "\n",
        "#Removing the square brackets\n",
        "def remove_between_square_brackets(text):\n",
        "    return re.sub('\\[[^]]*\\]', '', text)\n",
        "# Removing URL's\n",
        "def remove_between_square_brackets(text):\n",
        "    return re.sub(r'http\\S+', '', text)\n",
        "#Removing the stopwords from text\n",
        "def remove_stopwords(text):\n",
        "    final_text = []\n",
        "    for i in text.split():\n",
        "        if i.strip().lower() not in stop and i.strip().lower().isalpha():\n",
        "            final_text.append(i.strip().lower())\n",
        "    return \" \".join(final_text)\n",
        "#Removing the noisy text\n",
        "def denoise_text(text):\n",
        "    text = strip_html(text)\n",
        "    text = remove_between_square_brackets(text)\n",
        "    text = remove_stopwords(text)\n",
        "    return text\n",
        "#Apply function on review column\n",
        "df['headline']=df['headline'].apply(denoise_text)"
      ],
      "metadata": {
        "execution": {
          "iopub.status.busy": "2021-08-19T19:51:52.790301Z",
          "iopub.execute_input": "2021-08-19T19:51:52.790771Z",
          "iopub.status.idle": "2021-08-19T19:51:54.564226Z",
          "shell.execute_reply.started": "2021-08-19T19:51:52.790728Z",
          "shell.execute_reply": "2021-08-19T19:51:54.563231Z"
        },
        "trusted": true,
        "id": "MhvakQW6_cz9"
      },
      "execution_count": 53,
      "outputs": []
    },
    {
      "cell_type": "markdown",
      "source": [
        "## 3. Creating the vocabulary"
      ],
      "metadata": {
        "id": "qkc2sx3J_cz-"
      }
    },
    {
      "cell_type": "code",
      "source": [
        "def get_corpus(text):\n",
        "    words = []\n",
        "    for i in text:\n",
        "        for j in i.split():\n",
        "            words.append(j.strip())\n",
        "    return words\n",
        "corpus = get_corpus(df.headline)\n",
        "corpus[:5]"
      ],
      "metadata": {
        "execution": {
          "iopub.status.busy": "2021-08-19T19:51:54.565588Z",
          "iopub.execute_input": "2021-08-19T19:51:54.565965Z",
          "iopub.status.idle": "2021-08-19T19:51:54.622983Z",
          "shell.execute_reply.started": "2021-08-19T19:51:54.565924Z",
          "shell.execute_reply": "2021-08-19T19:51:54.622110Z"
        },
        "trusted": true,
        "id": "Z5CDrYKL_cz-",
        "colab": {
          "base_uri": "https://localhost:8080/"
        },
        "outputId": "d2fdbe26-2734-4cfc-f742-e654dd1b2e4a"
      },
      "execution_count": 54,
      "outputs": [
        {
          "output_type": "execute_result",
          "data": {
            "text/plain": [
              "['thirtysomething', 'scientists', 'unveil', 'doomsday', 'clock']"
            ]
          },
          "metadata": {},
          "execution_count": 54
        }
      ]
    },
    {
      "cell_type": "code",
      "source": [
        "from collections import Counter\n",
        "counter = Counter(corpus)\n",
        "most_common = counter.most_common(10)\n",
        "most_common = dict(most_common)\n",
        "most_common"
      ],
      "metadata": {
        "execution": {
          "iopub.status.busy": "2021-08-19T19:51:54.624614Z",
          "iopub.execute_input": "2021-08-19T19:51:54.624985Z",
          "iopub.status.idle": "2021-08-19T19:51:54.658299Z",
          "shell.execute_reply.started": "2021-08-19T19:51:54.624946Z",
          "shell.execute_reply": "2021-08-19T19:51:54.657387Z"
        },
        "trusted": true,
        "id": "7itfIkOg_cz_",
        "colab": {
          "base_uri": "https://localhost:8080/"
        },
        "outputId": "083c2820-bd35-490f-c1ea-7abbc1a4c608"
      },
      "execution_count": 55,
      "outputs": [
        {
          "output_type": "execute_result",
          "data": {
            "text/plain": [
              "{'area': 494,\n",
              " 'day': 435,\n",
              " 'donald': 472,\n",
              " 'like': 428,\n",
              " 'man': 1351,\n",
              " 'new': 1637,\n",
              " 'one': 527,\n",
              " 'says': 482,\n",
              " 'trump': 1284,\n",
              " 'woman': 483}"
            ]
          },
          "metadata": {},
          "execution_count": 55
        }
      ]
    },
    {
      "cell_type": "markdown",
      "source": [
        "## 4. Model Building"
      ],
      "metadata": {
        "id": "-a9hpYga_cz_"
      }
    },
    {
      "cell_type": "code",
      "source": [
        "X_data = df[['headline']].to_numpy().reshape(-1)\n",
        "y_data = df[['is_sarcastic']].to_numpy().reshape(-1)"
      ],
      "metadata": {
        "id": "qIzvhaRf7kkD"
      },
      "execution_count": 56,
      "outputs": []
    },
    {
      "cell_type": "code",
      "source": [
        "X = df['headline']\n",
        "y = df['is_sarcastic']"
      ],
      "metadata": {
        "execution": {
          "iopub.status.busy": "2021-08-19T19:51:54.659706Z",
          "iopub.execute_input": "2021-08-19T19:51:54.660275Z",
          "iopub.status.idle": "2021-08-19T19:51:54.666690Z",
          "shell.execute_reply.started": "2021-08-19T19:51:54.660234Z",
          "shell.execute_reply": "2021-08-19T19:51:54.665323Z"
        },
        "trusted": true,
        "id": "5uBvoyQ9_cz_"
      },
      "execution_count": 57,
      "outputs": []
    },
    {
      "cell_type": "code",
      "source": [
        "##X_train,X_test,y_train,y_test = train_test_split(X,y,random_state = 0 , stratify = y)\n",
        "# Split into train and test datasets\n",
        "X_train, X_test, y_train, y_test = train_test_split(X_data, y_data, test_size=0.3, random_state=777) # random_state to reproduce\n"
      ],
      "metadata": {
        "execution": {
          "iopub.status.busy": "2021-08-19T19:51:54.668289Z",
          "iopub.execute_input": "2021-08-19T19:51:54.668746Z",
          "iopub.status.idle": "2021-08-19T19:51:54.701097Z",
          "shell.execute_reply.started": "2021-08-19T19:51:54.668710Z",
          "shell.execute_reply": "2021-08-19T19:51:54.700382Z"
        },
        "trusted": true,
        "id": "w2xTzMtL_c0A"
      },
      "execution_count": 58,
      "outputs": []
    },
    {
      "cell_type": "code",
      "source": [
        "!pip install transformers\n",
        "## If transformers library is not installed"
      ],
      "metadata": {
        "execution": {
          "iopub.status.busy": "2021-08-19T19:51:54.704902Z",
          "iopub.execute_input": "2021-08-19T19:51:54.705154Z",
          "iopub.status.idle": "2021-08-19T19:52:00.188701Z",
          "shell.execute_reply.started": "2021-08-19T19:51:54.705129Z",
          "shell.execute_reply": "2021-08-19T19:52:00.187840Z"
        },
        "trusted": true,
        "id": "laww9rUX_c0A",
        "colab": {
          "base_uri": "https://localhost:8080/"
        },
        "outputId": "7ca1ee9c-1a28-418c-df27-648afb9426c8"
      },
      "execution_count": 59,
      "outputs": [
        {
          "output_type": "stream",
          "name": "stdout",
          "text": [
            "Requirement already satisfied: transformers in /usr/local/lib/python3.7/dist-packages (4.16.2)\n",
            "Requirement already satisfied: tqdm>=4.27 in /usr/local/lib/python3.7/dist-packages (from transformers) (4.62.3)\n",
            "Requirement already satisfied: tokenizers!=0.11.3,>=0.10.1 in /usr/local/lib/python3.7/dist-packages (from transformers) (0.11.4)\n",
            "Requirement already satisfied: regex!=2019.12.17 in /usr/local/lib/python3.7/dist-packages (from transformers) (2019.12.20)\n",
            "Requirement already satisfied: huggingface-hub<1.0,>=0.1.0 in /usr/local/lib/python3.7/dist-packages (from transformers) (0.4.0)\n",
            "Requirement already satisfied: requests in /usr/local/lib/python3.7/dist-packages (from transformers) (2.23.0)\n",
            "Requirement already satisfied: sacremoses in /usr/local/lib/python3.7/dist-packages (from transformers) (0.0.47)\n",
            "Requirement already satisfied: importlib-metadata in /usr/local/lib/python3.7/dist-packages (from transformers) (4.10.1)\n",
            "Requirement already satisfied: numpy>=1.17 in /usr/local/lib/python3.7/dist-packages (from transformers) (1.19.5)\n",
            "Requirement already satisfied: filelock in /usr/local/lib/python3.7/dist-packages (from transformers) (3.4.2)\n",
            "Requirement already satisfied: packaging>=20.0 in /usr/local/lib/python3.7/dist-packages (from transformers) (21.3)\n",
            "Requirement already satisfied: pyyaml>=5.1 in /usr/local/lib/python3.7/dist-packages (from transformers) (6.0)\n",
            "Requirement already satisfied: typing-extensions>=3.7.4.3 in /usr/local/lib/python3.7/dist-packages (from huggingface-hub<1.0,>=0.1.0->transformers) (3.10.0.2)\n",
            "Requirement already satisfied: pyparsing!=3.0.5,>=2.0.2 in /usr/local/lib/python3.7/dist-packages (from packaging>=20.0->transformers) (3.0.7)\n",
            "Requirement already satisfied: zipp>=0.5 in /usr/local/lib/python3.7/dist-packages (from importlib-metadata->transformers) (3.7.0)\n",
            "Requirement already satisfied: chardet<4,>=3.0.2 in /usr/local/lib/python3.7/dist-packages (from requests->transformers) (3.0.4)\n",
            "Requirement already satisfied: idna<3,>=2.5 in /usr/local/lib/python3.7/dist-packages (from requests->transformers) (2.10)\n",
            "Requirement already satisfied: certifi>=2017.4.17 in /usr/local/lib/python3.7/dist-packages (from requests->transformers) (2021.10.8)\n",
            "Requirement already satisfied: urllib3!=1.25.0,!=1.25.1,<1.26,>=1.21.1 in /usr/local/lib/python3.7/dist-packages (from requests->transformers) (1.24.3)\n",
            "Requirement already satisfied: joblib in /usr/local/lib/python3.7/dist-packages (from sacremoses->transformers) (1.1.0)\n",
            "Requirement already satisfied: six in /usr/local/lib/python3.7/dist-packages (from sacremoses->transformers) (1.15.0)\n",
            "Requirement already satisfied: click in /usr/local/lib/python3.7/dist-packages (from sacremoses->transformers) (7.1.2)\n",
            "\u001b[33mWARNING: Running pip as the 'root' user can result in broken permissions and conflicting behaviour with the system package manager. It is recommended to use a virtual environment instead: https://pip.pypa.io/warnings/venv\u001b[0m\u001b[33m\n",
            "\u001b[0m"
          ]
        }
      ]
    },
    {
      "cell_type": "markdown",
      "source": [
        "#### BERT is conceptually simple and empirically powerful. It obtains new state-of-the-art results on eleven natural language processing tasks, including pushing the GLUE score to 80.5% (7.7% point absolute improvement), MultiNLI accuracy to 86.7% (4.6% absolute improvement), SQuAD v1.1 question answering Test F1 to 93.2 (1.5 point absolute improvement) and SQuAD v2.0 Test F1 to 83.1 (5.1 point absolute improvement)."
      ],
      "metadata": {
        "id": "ihPPf1yH_c0B"
      }
    },
    {
      "cell_type": "code",
      "source": [
        "from tokenizers import BertWordPieceTokenizer\n",
        "# First load the real tokenizer\n",
        "tokenizer = transformers.BertTokenizer.from_pretrained('bert-base-uncased')\n",
        "# Save the loaded tokenizer locally\n",
        "tokenizer.save_pretrained('.')\n",
        "# Reload it with the huggingface tokenizers library\n",
        "fast_tokenizer = BertWordPieceTokenizer('vocab.txt', lowercase=True)\n",
        "fast_tokenizer"
      ],
      "metadata": {
        "execution": {
          "iopub.status.busy": "2021-08-19T19:52:00.190551Z",
          "iopub.execute_input": "2021-08-19T19:52:00.190924Z",
          "iopub.status.idle": "2021-08-19T19:52:01.459781Z",
          "shell.execute_reply.started": "2021-08-19T19:52:00.190883Z",
          "shell.execute_reply": "2021-08-19T19:52:01.458887Z"
        },
        "trusted": true,
        "id": "f-VenNc6_c0B",
        "colab": {
          "base_uri": "https://localhost:8080/"
        },
        "outputId": "b683c55a-9678-421d-c81d-704a48a7a499"
      },
      "execution_count": 60,
      "outputs": [
        {
          "output_type": "execute_result",
          "data": {
            "text/plain": [
              "Tokenizer(vocabulary_size=30522, model=BertWordPiece, unk_token=[UNK], sep_token=[SEP], cls_token=[CLS], pad_token=[PAD], mask_token=[MASK], clean_text=True, handle_chinese_chars=True, strip_accents=None, lowercase=True, wordpieces_prefix=##)"
            ]
          },
          "metadata": {},
          "execution_count": 60
        }
      ]
    },
    {
      "cell_type": "markdown",
      "source": [
        "Before any sentence is passed into the BERT model, it has to go through some tokenization steps. \n",
        "1. Firstly, tokenize all words in the sentence corpus\n",
        "2. Next, all the tokens are embedded using the learned embeddings from a WordPiece Tokenizer. For each word we get 786 dim. vector representation.\n",
        "3. Segment Embedding - Helps in distinguishing the words belonging to different sentences.\n",
        "4. Positional Embedding - This is used to provide the positional understanding for each word."
      ],
      "metadata": {
        "id": "tbyeia5b_c0C"
      }
    },
    {
      "cell_type": "markdown",
      "source": [
        "![](https://miro.medium.com/max/875/0*m_kXt3uqZH9e7H4w.png)"
      ],
      "metadata": {
        "id": "5eoBxyzr_c0C"
      }
    },
    {
      "cell_type": "code",
      "source": [
        "def fast_encode(texts, tokenizer, chunk_size=256, maxlen=400):\n",
        "\n",
        "    tokenizer.enable_truncation(max_length=maxlen)\n",
        "    tokenizer.enable_padding(length=maxlen)\n",
        "    all_ids = []\n",
        "    \n",
        "    for i in range(0, len(texts), chunk_size):\n",
        "        text_chunk = texts[i:i+chunk_size].tolist()\n",
        "        encs = tokenizer.encode_batch(text_chunk)\n",
        "        all_ids.extend([enc.ids for enc in encs])\n",
        "    \n",
        "    return np.array(all_ids)"
      ],
      "metadata": {
        "execution": {
          "iopub.status.busy": "2021-08-19T19:52:01.461511Z",
          "iopub.execute_input": "2021-08-19T19:52:01.461931Z",
          "iopub.status.idle": "2021-08-19T19:52:01.470309Z",
          "shell.execute_reply.started": "2021-08-19T19:52:01.461889Z",
          "shell.execute_reply": "2021-08-19T19:52:01.469124Z"
        },
        "trusted": true,
        "id": "uM2vnYHK_c0C"
      },
      "execution_count": 61,
      "outputs": []
    },
    {
      "cell_type": "code",
      "source": [
        "x_train = fast_encode(X_train, fast_tokenizer, maxlen=40)\n",
        "x_test = fast_encode(X_test, fast_tokenizer, maxlen=40)"
      ],
      "metadata": {
        "execution": {
          "iopub.status.busy": "2021-08-19T19:52:01.471741Z",
          "iopub.execute_input": "2021-08-19T19:52:01.472383Z",
          "iopub.status.idle": "2021-08-19T19:52:05.824891Z",
          "shell.execute_reply.started": "2021-08-19T19:52:01.472339Z",
          "shell.execute_reply": "2021-08-19T19:52:05.823931Z"
        },
        "trusted": true,
        "id": "6alviPb__c0D"
      },
      "execution_count": 62,
      "outputs": []
    },
    {
      "cell_type": "markdown",
      "source": [
        "We shall be using the pre-trained BERT model which has been extensively trained on huge text corpuses of Wikipedia.\n",
        "Now after getting the pre-trained model, we can fine-tune the model for our own specific task.\n",
        "\n",
        "The key thing to notice is here is that for our final prediction we would only be using the output generated by the first token ([CLS]), after which we use a sigmoid activation for final prediction."
      ],
      "metadata": {
        "id": "sUWG1_W8_c0D"
      }
    },
    {
      "cell_type": "code",
      "source": [
        "def build_model(transformer, max_len=400):\n",
        "    \n",
        "    input_word_ids = Input(shape=(max_len,), dtype=tf.int32, name=\"input_word_ids\")\n",
        "    sequence_output = transformer(input_word_ids)[0]\n",
        "    cls_token = sequence_output[:, 0, :]\n",
        "    out = Dense(1, activation='sigmoid')(cls_token)\n",
        "    \n",
        "    model = Model(inputs=input_word_ids, outputs=out)\n",
        "    model.compile(Adam(learning_rate=2e-5), loss='binary_crossentropy', metrics=['accuracy'])\n",
        "    \n",
        "    return model"
      ],
      "metadata": {
        "execution": {
          "iopub.status.busy": "2021-08-19T19:52:05.826259Z",
          "iopub.execute_input": "2021-08-19T19:52:05.826620Z",
          "iopub.status.idle": "2021-08-19T19:52:05.835431Z",
          "shell.execute_reply.started": "2021-08-19T19:52:05.826581Z",
          "shell.execute_reply": "2021-08-19T19:52:05.834561Z"
        },
        "trusted": true,
        "id": "Z-9SxQ0q_c0D"
      },
      "execution_count": 63,
      "outputs": []
    },
    {
      "cell_type": "markdown",
      "source": [
        "Downloading the pre-trained BERT model.\n",
        "We can use either the CASED or the UNCASED version for model building.\n",
        "\n",
        "To explain the BERT training in simple words:\n",
        "The BERT pre-training consists of two steps which happen parallely, these include:\n",
        "### 1. Masked Language Model\n",
        "In this the model is provided with sentences and some of the words are masked with a [MASK] tag (15% of all words), the model is then asked to predict those masked words. The BERT loss function takes into consideration only the prediction of the masked values and ignores the prediction of the non-masked words. As a consequence, the model converges slower than directional models, a characteristic which is offset by its increased context awareness.\n",
        "\n",
        "### 2. Next Sentence Prediction\n",
        "In the BERT training process, the model receives pairs of sentences as input and learns to predict if the second sentence in the pair is the subsequent sentence in the original document. This helps the model to understand the relationships between"
      ],
      "metadata": {
        "id": "NLRRePk2_c0D"
      }
    },
    {
      "cell_type": "code",
      "source": [
        "bert_model = transformers.TFBertModel.from_pretrained('bert-base-uncased')"
      ],
      "metadata": {
        "execution": {
          "iopub.status.busy": "2021-08-19T19:52:05.836879Z",
          "iopub.execute_input": "2021-08-19T19:52:05.837521Z",
          "iopub.status.idle": "2021-08-19T19:52:45.270088Z",
          "shell.execute_reply.started": "2021-08-19T19:52:05.837480Z",
          "shell.execute_reply": "2021-08-19T19:52:45.269252Z"
        },
        "trusted": true,
        "id": "7JVQqG6x_c0E",
        "colab": {
          "base_uri": "https://localhost:8080/"
        },
        "outputId": "306bc737-d730-44b3-cd16-09f2392a4be0"
      },
      "execution_count": 64,
      "outputs": [
        {
          "output_type": "stream",
          "name": "stderr",
          "text": [
            "Some layers from the model checkpoint at bert-base-uncased were not used when initializing TFBertModel: ['mlm___cls', 'nsp___cls']\n",
            "- This IS expected if you are initializing TFBertModel from the checkpoint of a model trained on another task or with another architecture (e.g. initializing a BertForSequenceClassification model from a BertForPreTraining model).\n",
            "- This IS NOT expected if you are initializing TFBertModel from the checkpoint of a model that you expect to be exactly identical (initializing a BertForSequenceClassification model from a BertForSequenceClassification model).\n",
            "All the layers of TFBertModel were initialized from the model checkpoint at bert-base-uncased.\n",
            "If your task is similar to the task the model of the checkpoint was trained on, you can already use TFBertModel for predictions without further training.\n"
          ]
        }
      ]
    },
    {
      "cell_type": "code",
      "source": [
        "model = build_model(bert_model, max_len=40)\n",
        "model.summary()"
      ],
      "metadata": {
        "execution": {
          "iopub.status.busy": "2021-08-19T19:52:45.271291Z",
          "iopub.execute_input": "2021-08-19T19:52:45.271640Z",
          "iopub.status.idle": "2021-08-19T19:52:49.463038Z",
          "shell.execute_reply.started": "2021-08-19T19:52:45.271594Z",
          "shell.execute_reply": "2021-08-19T19:52:49.462273Z"
        },
        "trusted": true,
        "id": "rFEldaQs_c0E",
        "colab": {
          "base_uri": "https://localhost:8080/"
        },
        "outputId": "9ee011c6-d926-4fcb-bfeb-0bf2742aa705"
      },
      "execution_count": 65,
      "outputs": [
        {
          "output_type": "stream",
          "name": "stdout",
          "text": [
            "Model: \"model_2\"\n",
            "_________________________________________________________________\n",
            " Layer (type)                Output Shape              Param #   \n",
            "=================================================================\n",
            " input_word_ids (InputLayer)  [(None, 40)]             0         \n",
            "                                                                 \n",
            " tf_bert_model_2 (TFBertMode  TFBaseModelOutputWithPoo  109482240\n",
            " l)                          lingAndCrossAttentions(l            \n",
            "                             ast_hidden_state=(None,             \n",
            "                             40, 768),                           \n",
            "                              pooler_output=(None, 76            \n",
            "                             8),                                 \n",
            "                              past_key_values=None, h            \n",
            "                             idden_states=None, atten            \n",
            "                             tions=None, cross_attent            \n",
            "                             ions=None)                          \n",
            "                                                                 \n",
            " tf.__operators__.getitem_2   (None, 768)              0         \n",
            " (SlicingOpLambda)                                               \n",
            "                                                                 \n",
            " dense_2 (Dense)             (None, 1)                 769       \n",
            "                                                                 \n",
            "=================================================================\n",
            "Total params: 109,483,009\n",
            "Trainable params: 109,483,009\n",
            "Non-trainable params: 0\n",
            "_________________________________________________________________\n"
          ]
        }
      ]
    },
    {
      "cell_type": "code",
      "source": [
        "history = model.fit(x_train,y_train,batch_size = 16 ,validation_data=(x_test,y_test),epochs = 3)"
      ],
      "metadata": {
        "execution": {
          "iopub.status.busy": "2021-08-19T19:52:49.465707Z",
          "iopub.execute_input": "2021-08-19T19:52:49.466370Z",
          "iopub.status.idle": "2021-08-19T20:54:01.136461Z",
          "shell.execute_reply.started": "2021-08-19T19:52:49.466328Z",
          "shell.execute_reply": "2021-08-19T20:54:01.135623Z"
        },
        "trusted": true,
        "id": "RS0pzqCd_c0F",
        "outputId": "dad3246f-5f75-4f97-d81d-ebda40c25846",
        "colab": {
          "base_uri": "https://localhost:8080/"
        }
      },
      "execution_count": 66,
      "outputs": [
        {
          "output_type": "stream",
          "name": "stdout",
          "text": [
            "Epoch 1/3\n",
            "WARNING:tensorflow:Gradients do not exist for variables ['tf_bert_model_2/bert/pooler/dense/kernel:0', 'tf_bert_model_2/bert/pooler/dense/bias:0'] when minimizing the loss. If you're using `model.compile()`, did you forget to provide a `loss`argument?\n",
            "WARNING:tensorflow:Gradients do not exist for variables ['tf_bert_model_2/bert/pooler/dense/kernel:0', 'tf_bert_model_2/bert/pooler/dense/bias:0'] when minimizing the loss. If you're using `model.compile()`, did you forget to provide a `loss`argument?\n",
            "1253/1253 [==============================] - 514s 354ms/step - loss: 0.4500 - accuracy: 0.7858 - val_loss: 0.3596 - val_accuracy: 0.8372\n",
            "Epoch 2/3\n",
            "1253/1253 [==============================] - 439s 350ms/step - loss: 0.2548 - accuracy: 0.8978 - val_loss: 0.4234 - val_accuracy: 0.8376\n",
            "Epoch 3/3\n",
            "1253/1253 [==============================] - 439s 351ms/step - loss: 0.1100 - accuracy: 0.9590 - val_loss: 0.5449 - val_accuracy: 0.8482\n"
          ]
        }
      ]
    },
    {
      "cell_type": "code",
      "source": [
        "print(\"Accuracy of the model on Testing Data is - \" , model.evaluate(x_test,y_test)[1]*100 , \"%\")"
      ],
      "metadata": {
        "execution": {
          "iopub.status.busy": "2021-08-19T20:54:01.139474Z",
          "iopub.execute_input": "2021-08-19T20:54:01.139734Z",
          "iopub.status.idle": "2021-08-19T20:55:56.111492Z",
          "shell.execute_reply.started": "2021-08-19T20:54:01.139706Z",
          "shell.execute_reply": "2021-08-19T20:55:56.110590Z"
        },
        "trusted": true,
        "id": "-uF1z0bb_c0F",
        "outputId": "6fa09585-ecbe-4246-d54a-cc6f8079361c",
        "colab": {
          "base_uri": "https://localhost:8080/"
        }
      },
      "execution_count": 67,
      "outputs": [
        {
          "output_type": "stream",
          "name": "stdout",
          "text": [
            "269/269 [==============================] - 48s 180ms/step - loss: 0.5449 - accuracy: 0.8482\n",
            "Accuracy of the model on Testing Data is -  84.82413291931152 %\n"
          ]
        }
      ]
    },
    {
      "cell_type": "code",
      "source": [
        "epochs = [i for i in range(3)]\n",
        "fig , ax = plt.subplots(1,2)\n",
        "train_acc = history.history['accuracy']\n",
        "train_loss = history.history['loss']\n",
        "val_acc = history.history['val_accuracy']\n",
        "val_loss = history.history['val_loss']\n",
        "fig.set_size_inches(20,10)\n",
        "\n",
        "ax[0].plot(epochs , train_acc , 'go-' , label = 'Training Accuracy')\n",
        "ax[0].plot(epochs , val_acc , 'ro-' , label = 'Testing Accuracy')\n",
        "ax[0].set_title('Training & Testing Accuracy')\n",
        "ax[0].legend()\n",
        "ax[0].set_xlabel(\"Epochs\")\n",
        "ax[0].set_ylabel(\"Accuracy\")\n",
        "\n",
        "ax[1].plot(epochs , train_loss , 'go-' , label = 'Training Loss')\n",
        "ax[1].plot(epochs , val_loss , 'ro-' , label = 'Testing Loss')\n",
        "ax[1].set_title('Training & Testing Loss')\n",
        "ax[1].legend()\n",
        "ax[1].set_xlabel(\"Epochs\")\n",
        "ax[1].set_ylabel(\"Loss\")\n",
        "plt.show()"
      ],
      "metadata": {
        "execution": {
          "iopub.status.busy": "2021-08-19T20:55:56.113061Z",
          "iopub.execute_input": "2021-08-19T20:55:56.113424Z",
          "iopub.status.idle": "2021-08-19T20:55:56.475297Z",
          "shell.execute_reply.started": "2021-08-19T20:55:56.113387Z",
          "shell.execute_reply": "2021-08-19T20:55:56.474522Z"
        },
        "trusted": true,
        "id": "wXVqUeXD_c0F",
        "outputId": "cde82855-c49d-4f6e-ac31-cdf8021e1672",
        "colab": {
          "base_uri": "https://localhost:8080/",
          "height": 584
        }
      },
      "execution_count": 68,
      "outputs": [
        {
          "output_type": "display_data",
          "data": {
            "image/png": "[encoded data removed]",
            "text/plain": [
              "<Figure size 1440x720 with 2 Axes>"
            ]
          },
          "metadata": {
            "needs_background": "light"
          }
        }
      ]
    },
    {
      "cell_type": "code",
      "source": [
        "pred = model.predict(x_test)\n",
        "pred[:5]"
      ],
      "metadata": {
        "execution": {
          "iopub.status.busy": "2021-08-19T20:55:56.476540Z",
          "iopub.execute_input": "2021-08-19T20:55:56.476892Z",
          "iopub.status.idle": "2021-08-19T20:57:52.869539Z",
          "shell.execute_reply.started": "2021-08-19T20:55:56.476856Z",
          "shell.execute_reply": "2021-08-19T20:57:52.868825Z"
        },
        "trusted": true,
        "id": "RYFyEuNh_c0G",
        "outputId": "ff835af1-6c8c-46c6-fb87-9483395fd6d2",
        "colab": {
          "base_uri": "https://localhost:8080/"
        }
      },
      "execution_count": 69,
      "outputs": [
        {
          "output_type": "execute_result",
          "data": {
            "text/plain": [
              "array([[9.9979752e-01],\n",
              "       [9.9997175e-01],\n",
              "       [6.4103283e-02],\n",
              "       [9.9448329e-01],\n",
              "       [2.3109646e-04]], dtype=float32)"
            ]
          },
          "metadata": {},
          "execution_count": 69
        }
      ]
    },
    {
      "cell_type": "code",
      "source": [
        "pred = np.round(pred).astype(int)\n",
        "pred[:5]"
      ],
      "metadata": {
        "execution": {
          "iopub.status.busy": "2021-08-19T20:57:52.870998Z",
          "iopub.execute_input": "2021-08-19T20:57:52.871351Z",
          "iopub.status.idle": "2021-08-19T20:57:52.879575Z",
          "shell.execute_reply.started": "2021-08-19T20:57:52.871315Z",
          "shell.execute_reply": "2021-08-19T20:57:52.878651Z"
        },
        "trusted": true,
        "id": "qdHIrBNj_c0G",
        "outputId": "f9021a72-bbb9-4640-872a-4446c62472f6",
        "colab": {
          "base_uri": "https://localhost:8080/"
        }
      },
      "execution_count": 70,
      "outputs": [
        {
          "output_type": "execute_result",
          "data": {
            "text/plain": [
              "array([[1],\n",
              "       [1],\n",
              "       [0],\n",
              "       [1],\n",
              "       [0]])"
            ]
          },
          "metadata": {},
          "execution_count": 70
        }
      ]
    },
    {
      "cell_type": "code",
      "source": [
        "print(classification_report(y_test, pred))"
      ],
      "metadata": {
        "execution": {
          "iopub.status.busy": "2021-08-19T20:57:52.881204Z",
          "iopub.execute_input": "2021-08-19T20:57:52.882124Z",
          "iopub.status.idle": "2021-08-19T20:57:52.903642Z",
          "shell.execute_reply.started": "2021-08-19T20:57:52.882083Z",
          "shell.execute_reply": "2021-08-19T20:57:52.902776Z"
        },
        "trusted": true,
        "id": "GSQRJ0Ry_c0H",
        "outputId": "762b8551-1756-4f90-a6ca-64bcbe61c254",
        "colab": {
          "base_uri": "https://localhost:8080/"
        }
      },
      "execution_count": 71,
      "outputs": [
        {
          "output_type": "stream",
          "name": "stdout",
          "text": [
            "              precision    recall  f1-score   support\n",
            "\n",
            "           0       0.86      0.85      0.85      4458\n",
            "           1       0.84      0.85      0.84      4128\n",
            "\n",
            "    accuracy                           0.85      8586\n",
            "   macro avg       0.85      0.85      0.85      8586\n",
            "weighted avg       0.85      0.85      0.85      8586\n",
            "\n"
          ]
        }
      ]
    },
    {
      "cell_type": "code",
      "source": [
        "cm = confusion_matrix(y_test,pred)\n",
        "cm"
      ],
      "metadata": {
        "execution": {
          "iopub.status.busy": "2021-08-19T20:57:52.904899Z",
          "iopub.execute_input": "2021-08-19T20:57:52.905255Z",
          "iopub.status.idle": "2021-08-19T20:57:52.924535Z",
          "shell.execute_reply.started": "2021-08-19T20:57:52.905219Z",
          "shell.execute_reply": "2021-08-19T20:57:52.923585Z"
        },
        "trusted": true,
        "id": "yBnLM7Pm_c0H",
        "outputId": "6061b5d8-b4b8-43d9-e4a2-bb6389b46bc9",
        "colab": {
          "base_uri": "https://localhost:8080/"
        }
      },
      "execution_count": 72,
      "outputs": [
        {
          "output_type": "execute_result",
          "data": {
            "text/plain": [
              "array([[3777,  681],\n",
              "       [ 622, 3506]])"
            ]
          },
          "metadata": {},
          "execution_count": 72
        }
      ]
    },
    {
      "cell_type": "code",
      "source": [
        "plt.figure(figsize = (10,10))\n",
        "sns.heatmap(cm,cmap= \"Blues\", linecolor = 'black' , linewidth = 1 , annot = True, fmt='')\n",
        "plt.xlabel(\"Predicted\")\n",
        "plt.ylabel(\"Actual\")"
      ],
      "metadata": {
        "execution": {
          "iopub.status.busy": "2021-08-19T20:57:52.926036Z",
          "iopub.execute_input": "2021-08-19T20:57:52.926375Z",
          "iopub.status.idle": "2021-08-19T20:57:53.114880Z",
          "shell.execute_reply.started": "2021-08-19T20:57:52.926340Z",
          "shell.execute_reply": "2021-08-19T20:57:53.114149Z"
        },
        "trusted": true,
        "id": "2S9s8_x-_c0I",
        "outputId": "5dc1ee2f-e6e8-4f96-b542-092bd9c8041c",
        "colab": {
          "base_uri": "https://localhost:8080/",
          "height": 623
        }
      },
      "execution_count": 73,
      "outputs": [
        {
          "output_type": "execute_result",
          "data": {
            "text/plain": [
              "Text(69.0, 0.5, 'Actual')"
            ]
          },
          "metadata": {},
          "execution_count": 73
        },
        {
          "output_type": "display_data",
          "data": {
            "image/png": "[encoded data removed]",
            "text/plain": [
              "<Figure size 720x720 with 2 Axes>"
            ]
          },
          "metadata": {
            "needs_background": "light"
          }
        }
      ]
    },
    {
      "cell_type": "code",
      "source": [
        "# serialize model to JSON\n",
        "model_json = model.to_json()\n",
        "with open(\"bert-model.json\", \"w\") as json_file:\n",
        "    json_file.write(model_json)\n",
        "# serialize weights to HDF5\n",
        "model.save_weights(\"bert-model.h5\")\n",
        "print(\"Saved model to disk\")"
      ],
      "metadata": {
        "colab": {
          "base_uri": "https://localhost:8080/"
        },
        "id": "sXBlQoKwivuM",
        "outputId": "dd42e8ef-6f45-4bd6-97e6-b07453cce748"
      },
      "execution_count": 74,
      "outputs": [
        {
          "output_type": "stream",
          "name": "stdout",
          "text": [
            "Saved model to disk\n"
          ]
        }
      ]
    },
    {
      "cell_type": "code",
      "source": [
        "from keras.models import model_from_json\n",
        "from transformers import BertTokenizer, TFBertModel"
      ],
      "metadata": {
        "id": "BUWuTZwkkcG9"
      },
      "execution_count": 75,
      "outputs": []
    },
    {
      "cell_type": "code",
      "source": [
        "# load json and create model\n",
        "json_file = open('bert-model.json', 'r')\n",
        "loaded_model_json = json_file.read()\n",
        "json_file.close()\n",
        "loaded_model = model_from_json(loaded_model_json,custom_objects={'TFBertModel': TFBertModel})\n",
        "# load weights into new model\n",
        "loaded_model.load_weights(\"bert-model.h5\")\n",
        "print(\"Loaded model from disk\")"
      ],
      "metadata": {
        "id": "pZncERsOjPG9",
        "outputId": "45d123f7-72e7-4d65-9443-c2ed0fb3b3c4",
        "colab": {
          "base_uri": "https://localhost:8080/"
        }
      },
      "execution_count": 76,
      "outputs": [
        {
          "output_type": "stream",
          "name": "stdout",
          "text": [
            "Loaded model from disk\n"
          ]
        }
      ]
    },
    {
      "cell_type": "code",
      "source": [
        "loaded_model.compile(Adam(learning_rate=2e-5), loss='binary_crossentropy', metrics=['accuracy'])\n",
        "    "
      ],
      "metadata": {
        "id": "eQYaIF7zmsnl"
      },
      "execution_count": 77,
      "outputs": []
    },
    {
      "cell_type": "code",
      "source": [
        "print(\"Accuracy of the model on Testing Data is - \" , loaded_model.evaluate(x_test,y_test)[1]*100 , \"%\")"
      ],
      "metadata": {
        "id": "8-jzAT2mm9Uw",
        "outputId": "6b406c75-2e35-4d39-e002-d9f223eeec2c",
        "colab": {
          "base_uri": "https://localhost:8080/"
        }
      },
      "execution_count": 78,
      "outputs": [
        {
          "output_type": "stream",
          "name": "stdout",
          "text": [
            "269/269 [==============================] - 55s 179ms/step - loss: 0.5449 - accuracy: 0.8482\n",
            "Accuracy of the model on Testing Data is -  84.82413291931152 %\n"
          ]
        }
      ]
    },
    {
      "cell_type": "code",
      "source": [
        "x_train = fast_encode(X_train, fast_tokenizer, maxlen=40)"
      ],
      "metadata": {
        "id": "DYvbK3K3qg77"
      },
      "execution_count": 104,
      "outputs": []
    },
    {
      "cell_type": "code",
      "source": [
        "input_L = model.layers[0](x_train[:1000])\n",
        "bert_m = model.layers[1]\n",
        "outputs = bert_m(input_L)\n",
        "last_hidden_states = outputs.last_hidden_state\n",
        "last_hidden_states"
      ],
      "metadata": {
        "id": "xp2as-OCqHLq",
        "outputId": "a032d661-a24e-4789-da3d-9e819f45276f",
        "colab": {
          "base_uri": "https://localhost:8080/"
        }
      },
      "execution_count": 157,
      "outputs": [
        {
          "output_type": "execute_result",
          "data": {
            "text/plain": [
              "<tf.Tensor: shape=(1000, 40, 768), dtype=float32, numpy=\n",
              "array([[[-1.0345747 ,  0.06177528, -0.34631115, ..., -0.41621795,\n",
              "          0.9178313 ,  0.600635  ],\n",
              "        [-0.7079441 ,  0.41612402, -0.20616853, ..., -0.41093704,\n",
              "          0.92840254,  1.1381966 ],\n",
              "        [-0.777426  ,  0.14183238,  0.57115984, ..., -0.9360045 ,\n",
              "          0.06014167,  0.5915246 ],\n",
              "        ...,\n",
              "        [-0.4694136 ,  0.2477426 , -0.0575156 , ..., -0.14384149,\n",
              "          0.56086206, -0.15736991],\n",
              "        [-0.5145774 ,  0.24585798, -0.03131276, ..., -0.12058242,\n",
              "          0.55089605, -0.09109575],\n",
              "        [-0.5737689 ,  0.32929954, -0.00378598, ..., -0.10828002,\n",
              "          0.5791819 , -0.05040786]],\n",
              "\n",
              "       [[-0.23959702, -0.09642766,  0.08081056, ..., -0.21989486,\n",
              "         -0.314659  ,  0.91538227],\n",
              "        [ 1.0056316 , -0.23303196,  0.21636133, ..., -0.17919213,\n",
              "         -0.07622781, -0.5317474 ],\n",
              "        [ 1.0877078 ,  0.07722266, -0.33881894, ...,  0.28124204,\n",
              "         -0.62748647, -0.35697496],\n",
              "        ...,\n",
              "        [-0.52052087,  0.25772157, -0.10322638, ..., -0.06153814,\n",
              "          0.5847218 , -0.0738685 ],\n",
              "        [-0.5653237 ,  0.25455433, -0.08635236, ..., -0.04801571,\n",
              "          0.59208083, -0.03135885],\n",
              "        [-0.5709638 ,  0.3345716 , -0.05527854, ..., -0.05284235,\n",
              "          0.5988786 , -0.05268027]],\n",
              "\n",
              "       [[-0.17629516,  1.4436928 , -0.37085325, ...,  0.9097003 ,\n",
              "          0.7209628 , -0.0096943 ],\n",
              "        [ 0.22830528,  1.6408879 ,  0.01310833, ...,  0.5041751 ,\n",
              "          0.91647846,  0.17484254],\n",
              "        [-0.41671997,  1.4196689 , -0.19345629, ...,  0.5570905 ,\n",
              "          0.4901756 , -0.37718925],\n",
              "        ...,\n",
              "        [-0.54315954,  0.30355662, -0.08680031, ..., -0.17285016,\n",
              "          0.6130465 , -0.09674557],\n",
              "        [-0.5805714 ,  0.2868766 , -0.04458702, ..., -0.15351869,\n",
              "          0.60496813, -0.02632048],\n",
              "        [-0.56574076,  0.36434373,  0.00650905, ..., -0.13882303,\n",
              "          0.6028822 , -0.02561523]],\n",
              "\n",
              "       ...,\n",
              "\n",
              "       [[-0.37687594,  0.44719917, -0.03744957, ...,  0.7113304 ,\n",
              "          0.15854153, -0.10422736],\n",
              "        [-0.38103813,  0.55078936, -0.24120429, ...,  1.0973753 ,\n",
              "         -0.02758015, -0.9678278 ],\n",
              "        [-1.4055792 ,  0.29969928,  0.36931506, ...,  1.0604911 ,\n",
              "          0.13750905, -0.12210344],\n",
              "        ...,\n",
              "        [-0.52746093,  0.2771777 , -0.10752811, ..., -0.10471691,\n",
              "          0.6036599 , -0.13111039],\n",
              "        [-0.561252  ,  0.29218444, -0.07241926, ..., -0.10057818,\n",
              "          0.6206325 , -0.06926425],\n",
              "        [-0.57171047,  0.40424293, -0.00532611, ..., -0.07968631,\n",
              "          0.6367235 , -0.05994451]],\n",
              "\n",
              "       [[ 0.24887727,  0.19000833, -0.39202076, ...,  0.05685292,\n",
              "         -0.17992494, -0.26703212],\n",
              "        [-0.13355178,  0.82819945,  0.9694945 , ...,  0.5294928 ,\n",
              "          0.41841167, -1.2188118 ],\n",
              "        [ 0.25340685,  0.02136425,  0.7973307 , ..., -0.0920049 ,\n",
              "          0.39893824,  0.06603082],\n",
              "        ...,\n",
              "        [-0.5090689 ,  0.261601  , -0.09326387, ..., -0.07325651,\n",
              "          0.61977816, -0.06644696],\n",
              "        [-0.56272763,  0.24680623, -0.08237768, ..., -0.05595005,\n",
              "          0.62147474, -0.0067694 ],\n",
              "        [-0.5892926 ,  0.33133215, -0.04556672, ..., -0.0560628 ,\n",
              "          0.6375311 , -0.02208533]],\n",
              "\n",
              "       [[-0.6328512 , -0.4926765 ,  0.29742268, ...,  0.3977234 ,\n",
              "          0.02052595, -0.08977231],\n",
              "        [ 0.046259  , -0.7307941 ,  0.19676399, ...,  0.8429163 ,\n",
              "          0.5678941 , -0.11745605],\n",
              "        [-0.09256099,  0.01487071,  0.31559634, ...,  0.36992678,\n",
              "          0.47787   , -1.2008711 ],\n",
              "        ...,\n",
              "        [-0.49570677,  0.24096182, -0.10948527, ..., -0.08911218,\n",
              "          0.58325136, -0.09877207],\n",
              "        [-0.5478742 ,  0.22569379, -0.09168414, ..., -0.07712354,\n",
              "          0.60112417, -0.05540117],\n",
              "        [-0.5529679 ,  0.31371918, -0.04432315, ..., -0.07592491,\n",
              "          0.6199069 , -0.07760595]]], dtype=float32)>"
            ]
          },
          "metadata": {},
          "execution_count": 157
        }
      ]
    },
    {
      "cell_type": "code",
      "source": [
        "cls_token = last_hidden_states[:, 0, :]"
      ],
      "metadata": {
        "id": "Pny6RytRsMEq"
      },
      "execution_count": 158,
      "outputs": []
    },
    {
      "cell_type": "code",
      "source": [
        "cls_token.shape"
      ],
      "metadata": {
        "id": "SxJUYguSsP5R",
        "outputId": "4af3fd2d-a074-4bf0-819f-8cd4c5e2a815",
        "colab": {
          "base_uri": "https://localhost:8080/"
        }
      },
      "execution_count": 159,
      "outputs": [
        {
          "output_type": "execute_result",
          "data": {
            "text/plain": [
              "TensorShape([1000, 768])"
            ]
          },
          "metadata": {},
          "execution_count": 159
        }
      ]
    },
    {
      "cell_type": "code",
      "source": [
        "from sklearn.manifold import TSNE\n",
        "dim_reducer = TSNE(n_components=2,random_state=0)\n",
        "layer_dim_reduced_embeds = dim_reducer.fit_transform(cls_token)"
      ],
      "metadata": {
        "id": "T-20RZvSsXhk",
        "outputId": "4a305ae8-cffd-4562-8a08-3ba30bf6929e",
        "colab": {
          "base_uri": "https://localhost:8080/"
        }
      },
      "execution_count": 160,
      "outputs": [
        {
          "output_type": "stream",
          "name": "stderr",
          "text": [
            "/usr/local/lib/python3.7/dist-packages/sklearn/manifold/_t_sne.py:783: FutureWarning: The default initialization in TSNE will change from 'random' to 'pca' in 1.2.\n",
            "  FutureWarning,\n",
            "/usr/local/lib/python3.7/dist-packages/sklearn/manifold/_t_sne.py:793: FutureWarning: The default learning rate in TSNE will change from 200.0 to 'auto' in 1.2.\n",
            "  FutureWarning,\n"
          ]
        }
      ]
    },
    {
      "cell_type": "code",
      "source": [
        "layer_dim_reduced_embeds"
      ],
      "metadata": {
        "id": "WEMteG4GxPWY",
        "outputId": "30a849ae-5c6f-4872-c3cd-f655c184dfe4",
        "colab": {
          "base_uri": "https://localhost:8080/"
        }
      },
      "execution_count": 161,
      "outputs": [
        {
          "output_type": "execute_result",
          "data": {
            "text/plain": [
              "array([[ 15.232818,  26.80942 ],\n",
              "       [-15.176206,  -6.397918],\n",
              "       [ 32.90127 ,   8.480393],\n",
              "       ...,\n",
              "       [ 13.181394,  15.873233],\n",
              "       [-26.816088,  -5.165973],\n",
              "       [-30.75197 ,  -3.484681]], dtype=float32)"
            ]
          },
          "metadata": {},
          "execution_count": 161
        }
      ]
    },
    {
      "cell_type": "code",
      "source": [
        "plt.scatter(layer_dim_reduced_embeds[:,0], layer_dim_reduced_embeds[:,1],c=y_train[0:1000])\n",
        "plt.xlabel('PC1')\n",
        "plt.ylabel('PC2')\n",
        "plt.show()"
      ],
      "metadata": {
        "id": "0ViH6Qmqtu7d",
        "outputId": "1ad634be-a066-4279-d91a-501da6aec889",
        "colab": {
          "base_uri": "https://localhost:8080/",
          "height": 279
        }
      },
      "execution_count": 163,
      "outputs": [
        {
          "output_type": "display_data",
          "data": {
            "image/png": "[encoded data removed]",
            "text/plain": [
              "<Figure size 432x288 with 1 Axes>"
            ]
          },
          "metadata": {
            "needs_background": "light"
          }
        }
      ]
    }
  ]
}